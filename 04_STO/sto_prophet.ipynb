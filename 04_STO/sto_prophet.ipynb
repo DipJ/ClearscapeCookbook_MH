{
 "cells": [
  {
   "cell_type": "markdown",
   "id": "4c4ef782-e35f-41e1-bc10-9999bfb3c9d6",
   "metadata": {},
   "source": [
    "<header>\n",
    "   <p  style='font-size:36px;font-family:Arial; color:#F0F0F0; background-color: #00233c; padding-left: 20pt; padding-top: 20pt;padding-bottom: 10pt; padding-right: 20pt;'>\n",
    "       Deploy Prophet for Time Series Forecast inside Vantage \n",
    "<br><br>\n",
    "   using Script Table Operator\n",
    " <br>       \n",
    "       <img id=\"teradata-logo\" src=\"https://storage.googleapis.com/clearscape_analytics_demo_data/DEMO_Logo/teradata.svg\" alt=\"Teradata\" style=\"width: 150px; height: auto; margin-top: 20pt;\">\n",
    "  <br>\n",
    "    </p>\n",
    "</header>"
   ]
  },
  {
   "cell_type": "markdown",
   "id": "d794ccd2-8b32-4e50-a2d8-e8eef1aef45a",
   "metadata": {},
   "source": [
    "# Use Case: Predict Sales Volume for every product at every store"
   ]
  },
  {
   "cell_type": "markdown",
   "id": "7e9890e2-da83-45b2-9161-27706b0d1bf6",
   "metadata": {},
   "source": [
    "# Generation of Simulated Data"
   ]
  },
  {
   "cell_type": "code",
   "execution_count": null,
   "id": "fa9ead47-b40c-48ce-a6eb-08bb34b4b48d",
   "metadata": {
    "tags": []
   },
   "outputs": [],
   "source": [
    "import pandas as pd\n",
    "import numpy as np\n",
    "from datetime import datetime, timedelta\n",
    "import random\n",
    "\n",
    "def generate_sales_data(num_products, num_stores, date_range):\n",
    "    start_date, end_date = date_range\n",
    "    date_range = pd.date_range(start=start_date, end=end_date, freq='D')\n",
    "\n",
    "    # Generate store dimension table\n",
    "    store_ids = [f\"store_{i+1}\" for i in range(num_stores)]\n",
    "    store_names = [f\"Store {i+1}\" for i in range(num_stores)]\n",
    "    store_df = pd.DataFrame({\n",
    "        'store_id': store_ids,\n",
    "        'store_name': store_names,\n",
    "        'location': [f\"Location {i+1}\" for i in range(num_stores)],\n",
    "        'store_effect': np.random.uniform(0.6, 1.2, num_stores)\n",
    "    })\n",
    "\n",
    "    # Generate product dimension table\n",
    "    product_ids = [f\"product_{i+1}\" for i in range(num_products)]\n",
    "    product_names = [f\"Product {i+1}\" for i in range(num_products)]\n",
    "    product_df = pd.DataFrame({\n",
    "        'product_id': product_ids,\n",
    "        'product_name': product_names,\n",
    "        'category': [random.choice(['Electronics', 'Clothing', 'Food', 'Toys']) for _ in range(num_products)],\n",
    "        'product_effect': np.random.uniform(0.1, 12.2, num_products)\n",
    "    })\n",
    "\n",
    "    # Weekly and annual seasonality\n",
    "    weekly_pattern = [0.7, 0.9, 1.0, 1.1, 1.2, 1.3, 1.1]  # Sun to Sat\n",
    "    annual_pattern = 1.5*np.sin(np.linspace(0, 2 * np.pi, 365)) + 4  # Annual seasonality\n",
    "\n",
    "    sales_data = []\n",
    "\n",
    "    # Generate sales data\n",
    "    for store in store_df.itertuples():\n",
    "        for product in product_df.itertuples():\n",
    "            for date in date_range:\n",
    "                weekly_factor = weekly_pattern[date.weekday()]\n",
    "                annual_factor = annual_pattern[date.timetuple().tm_yday - 1]\n",
    "                interaction_effect = (store.store_effect * product.product_effect * weekly_factor * annual_factor)\n",
    "                base_sales = np.random.poisson(10)\n",
    "                sales = int(base_sales * interaction_effect*10*np.random.uniform(0.9, 1.1))\n",
    "                sales = max(sales, 0)  # Ensure no negative sales\n",
    "                sales_data.append({\n",
    "                    'store_id': store.store_id,\n",
    "                    'product_id': product.product_id,\n",
    "                    'datestamp': date,\n",
    "                    'items_sold': sales\n",
    "                })\n",
    "\n",
    "    sales_df = pd.DataFrame(sales_data)\n",
    "    \n",
    "    return sales_df, store_df, product_df"
   ]
  },
  {
   "cell_type": "code",
   "execution_count": null,
   "id": "54b4b23b-08b9-40a2-80a7-c768be923fdd",
   "metadata": {},
   "outputs": [],
   "source": [
    "# Example usage:\n",
    "sales_df, store_df, product_df = generate_sales_data(10, 5, ('2023-01-01', '2024-01-31'))\n",
    "# print(sales_df)\n",
    "# print(store_df)\n",
    "# print(product_df)"
   ]
  },
  {
   "cell_type": "code",
   "execution_count": null,
   "id": "1c3537ab-f984-42f6-9db4-9ac28a0160bd",
   "metadata": {},
   "outputs": [],
   "source": [
    "sales_df.dtypes"
   ]
  },
  {
   "cell_type": "code",
   "execution_count": null,
   "id": "27b03c14-f1f4-4ee5-a58e-c7c1c7fe246d",
   "metadata": {},
   "outputs": [],
   "source": [
    "sales_df"
   ]
  },
  {
   "cell_type": "code",
   "execution_count": null,
   "id": "70fa5369-954f-49c2-96dc-8d636bf8e359",
   "metadata": {},
   "outputs": [],
   "source": []
  },
  {
   "cell_type": "code",
   "execution_count": null,
   "id": "c9a5fb02-4877-4558-bfc7-2eceee77e2f1",
   "metadata": {},
   "outputs": [],
   "source": []
  },
  {
   "cell_type": "code",
   "execution_count": null,
   "id": "f82137df-ae38-4f8c-88e5-c59032cb60db",
   "metadata": {},
   "outputs": [],
   "source": []
  },
  {
   "cell_type": "code",
   "execution_count": null,
   "id": "ce5c07e8-6f81-4a6f-92e4-fed9e109f740",
   "metadata": {},
   "outputs": [],
   "source": []
  },
  {
   "cell_type": "code",
   "execution_count": null,
   "id": "b66eb9de-f76c-4f70-8323-9f75dccb8f9a",
   "metadata": {},
   "outputs": [],
   "source": []
  },
  {
   "cell_type": "code",
   "execution_count": null,
   "id": "b53e2248-5551-40bf-8517-6db7ba0e1641",
   "metadata": {},
   "outputs": [],
   "source": []
  },
  {
   "cell_type": "code",
   "execution_count": null,
   "id": "5f23f006-49c1-49c7-b06c-cb0c849ef9b2",
   "metadata": {},
   "outputs": [],
   "source": []
  },
  {
   "cell_type": "code",
   "execution_count": null,
   "id": "2ed3e39b-7661-4dc8-964d-1de4051910cc",
   "metadata": {},
   "outputs": [],
   "source": []
  },
  {
   "cell_type": "code",
   "execution_count": null,
   "id": "90011df5-0777-4eab-989f-fcf8fe7e7268",
   "metadata": {},
   "outputs": [],
   "source": []
  },
  {
   "cell_type": "code",
   "execution_count": null,
   "id": "779ecf11-a5ad-4c35-ad7e-d66b412fc731",
   "metadata": {},
   "outputs": [],
   "source": []
  },
  {
   "cell_type": "markdown",
   "id": "c3909d55-7561-4d8f-bedc-63d06c3ca514",
   "metadata": {},
   "source": [
    "# Forecasting with Prophet + Visualisation: Local & Iteratively"
   ]
  },
  {
   "cell_type": "code",
   "execution_count": null,
   "id": "2bf0f07e-1fe4-45ad-94ba-078e3a077ad9",
   "metadata": {},
   "outputs": [],
   "source": [
    "from prophet import Prophet\n",
    "import pandas as pd\n",
    "\n",
    "def predict_sales(sales_df, future_days=28):\n",
    "    predictions = []\n",
    "    store_product_combinations = sales_df[['store_id', 'product_id']].drop_duplicates()\n",
    "    \n",
    "    for _, row in store_product_combinations.iterrows():\n",
    "        store_id = row['store_id']\n",
    "        product_id = row['product_id']\n",
    "        \n",
    "        # Filter data for the current store and product\n",
    "        df = sales_df[(sales_df['store_id'] == store_id) & (sales_df['product_id'] == product_id)]\n",
    "        df = df[['datestamp', 'items_sold']].rename(columns={'datestamp': 'ds', 'items_sold': 'y'})\n",
    "\n",
    "        # Fit the Prophet model\n",
    "        model = Prophet(daily_seasonality=True, yearly_seasonality=True)\n",
    "        model.fit(df)\n",
    "\n",
    "        # Create future dataframe for predictions\n",
    "        future = model.make_future_dataframe(periods=future_days)\n",
    "        \n",
    "        # Predict future sales\n",
    "        forecast = model.predict(future)\n",
    "        \n",
    "        # Select only the future days and relevant columns\n",
    "        forecast = forecast[['ds', 'yhat']].tail(future_days)\n",
    "        forecast['store_id'] = store_id\n",
    "        forecast['product_id'] = product_id\n",
    "        \n",
    "        predictions.append(forecast)\n",
    "\n",
    "    # Combine all predictions into a single DataFrame\n",
    "    predictions_df = pd.concat(predictions, ignore_index=True)\n",
    "    predictions_df.rename(columns={'ds': 'datestamp', 'yhat': 'predicted_items_sold'}, inplace=True)\n",
    "    \n",
    "    return predictions_df\n",
    "\n",
    "# Example usage:\n",
    "# predictions_df = predict_sales(sales_df)\n",
    "# print(predictions_df)\n"
   ]
  },
  {
   "cell_type": "code",
   "execution_count": null,
   "id": "62682ccb-b07b-4393-bcc3-9836295c9b44",
   "metadata": {
    "tags": []
   },
   "outputs": [],
   "source": [
    "# 50 prophet models fitted and scored iteratively\n",
    "# will take 50 times model fitting time of a single model\n",
    "sales_pred_df = predict_sales(sales_df)"
   ]
  },
  {
   "cell_type": "code",
   "execution_count": null,
   "id": "5bbd09e7-ba64-4e51-b9d9-4d4f3882126a",
   "metadata": {},
   "outputs": [],
   "source": [
    "# will have 50* 28 rows\n",
    "sales_pred_df"
   ]
  },
  {
   "cell_type": "code",
   "execution_count": null,
   "id": "f419738f-0773-4685-bc75-96bc39628da5",
   "metadata": {},
   "outputs": [],
   "source": []
  },
  {
   "cell_type": "code",
   "execution_count": null,
   "id": "90e471d2-2648-4e5b-916c-cca13f575263",
   "metadata": {},
   "outputs": [],
   "source": []
  },
  {
   "cell_type": "code",
   "execution_count": null,
   "id": "49064c17-3389-4368-b6f1-9341944d302d",
   "metadata": {},
   "outputs": [],
   "source": []
  },
  {
   "cell_type": "code",
   "execution_count": null,
   "id": "ee2943f4-63ba-45a8-aef9-7df64eaf1ad6",
   "metadata": {},
   "outputs": [],
   "source": []
  },
  {
   "cell_type": "code",
   "execution_count": null,
   "id": "c4fb9e05-1b86-47f6-8490-d50125594282",
   "metadata": {},
   "outputs": [],
   "source": []
  },
  {
   "cell_type": "code",
   "execution_count": null,
   "id": "0e120cc6-00d1-4f4d-85aa-e8f98a82fddf",
   "metadata": {},
   "outputs": [],
   "source": []
  },
  {
   "cell_type": "code",
   "execution_count": null,
   "id": "3c156e5a-e41b-4e18-9aa7-f14a4bdce427",
   "metadata": {},
   "outputs": [],
   "source": []
  },
  {
   "cell_type": "code",
   "execution_count": null,
   "id": "15651e26-07ba-4137-b438-bcb6ee28e8a1",
   "metadata": {},
   "outputs": [],
   "source": []
  },
  {
   "cell_type": "code",
   "execution_count": null,
   "id": "ce9f9e4b-08ea-4d89-b51f-66edbe842411",
   "metadata": {},
   "outputs": [],
   "source": []
  },
  {
   "cell_type": "markdown",
   "id": "6f97c533-ad9a-4711-b9a4-a6b4e5096b2e",
   "metadata": {},
   "source": [
    "# visualise"
   ]
  },
  {
   "cell_type": "code",
   "execution_count": null,
   "id": "890fe54e-d561-4e15-901c-a1063c3bb88b",
   "metadata": {},
   "outputs": [],
   "source": [
    "import plotly.graph_objects as go\n",
    "\n",
    "def visualize_sales(sales_df, predicted_sales_df, product_id):\n",
    "    # Filter the data for the given product\n",
    "    historic_sales = sales_df[sales_df['product_id'] == product_id]\n",
    "    predicted_sales = predicted_sales_df[predicted_sales_df['product_id'] == product_id]\n",
    "\n",
    "    # Get unique stores for the product\n",
    "    stores = historic_sales['store_id'].unique()\n",
    "\n",
    "    # Create the plot\n",
    "    fig = go.Figure()\n",
    "\n",
    "    # Color palette for the lines\n",
    "    colors = ['#1f77b4', '#ff7f0e', '#2ca02c', '#d62728', '#9467bd', '#8c564b', '#e377c2', '#7f7f7f', '#bcbd22', '#17becf']\n",
    "\n",
    "    # Add historic sales lines for each store\n",
    "    for idx, store in enumerate(stores):\n",
    "        store_sales = historic_sales[historic_sales['store_id'] == store]\n",
    "        fig.add_trace(go.Scatter(x=store_sales['datestamp'], y=store_sales['items_sold'],\n",
    "                                 mode='lines', name=f'{store} Historic',\n",
    "                                 line=dict(color=colors[idx % len(colors)], width=2)))\n",
    "\n",
    "    # Add predicted sales lines for each store\n",
    "    for idx, store in enumerate(stores):\n",
    "        store_sales = predicted_sales[predicted_sales['store_id'] == store]\n",
    "        fig.add_trace(go.Scatter(x=store_sales['datestamp'], y=store_sales['predicted_items_sold'],\n",
    "                                 mode='lines', name=f'{store} Predicted',\n",
    "                                 line=dict(color=colors[idx % len(colors)], width=2, dash='dot')))\n",
    "\n",
    "    # Update layout\n",
    "    fig.update_layout(title=f'Sales Visualization for {product_id}',\n",
    "                      xaxis_title='Date',\n",
    "                      yaxis_title='Number of Items Sold',\n",
    "                      legend_title='Legend')\n",
    "\n",
    "    fig.show()\n",
    "\n",
    "# Example usage:\n",
    "# visualize_sales(sales_df, predictions_df, 'product_1')\n"
   ]
  },
  {
   "cell_type": "code",
   "execution_count": null,
   "id": "e7660ba7-fb4a-4919-bfee-f8c06485afc7",
   "metadata": {},
   "outputs": [],
   "source": [
    "visualize_sales(sales_df, sales_pred_df, 'product_1')"
   ]
  },
  {
   "cell_type": "code",
   "execution_count": null,
   "id": "b4308f03-b41d-4422-8a5f-e909a7966fd2",
   "metadata": {},
   "outputs": [],
   "source": []
  },
  {
   "cell_type": "code",
   "execution_count": null,
   "id": "70aab546-a7e6-42c3-ae84-a34afe33510c",
   "metadata": {},
   "outputs": [],
   "source": []
  },
  {
   "cell_type": "code",
   "execution_count": null,
   "id": "df004959-e549-4145-a972-18534f7629be",
   "metadata": {},
   "outputs": [],
   "source": []
  },
  {
   "cell_type": "code",
   "execution_count": null,
   "id": "79dbc331-56b6-4b32-8cad-e3deb8e095fa",
   "metadata": {},
   "outputs": [],
   "source": []
  },
  {
   "cell_type": "code",
   "execution_count": null,
   "id": "b19a81c2-1231-4410-82b9-76d13c407b34",
   "metadata": {},
   "outputs": [],
   "source": []
  },
  {
   "cell_type": "code",
   "execution_count": null,
   "id": "8e4fe5ee-4aa2-4468-86e4-88116f0e13bb",
   "metadata": {},
   "outputs": [],
   "source": []
  },
  {
   "cell_type": "code",
   "execution_count": null,
   "id": "884b189f-4738-42d9-aab5-7697060611ee",
   "metadata": {},
   "outputs": [],
   "source": []
  },
  {
   "cell_type": "code",
   "execution_count": null,
   "id": "34ae19a3-95c3-44a8-aa85-4db48c633605",
   "metadata": {},
   "outputs": [],
   "source": []
  },
  {
   "cell_type": "markdown",
   "id": "5c8496c7-9b4e-429a-a61f-f64469737734",
   "metadata": {},
   "source": [
    "# Run it inside Vantage with Script Table Operator"
   ]
  },
  {
   "cell_type": "markdown",
   "id": "5ff02ca9-fc1f-4f12-9d0e-7a79a103c496",
   "metadata": {},
   "source": [
    "![](https://nbviewer.org/github/Teradata/jupyter-demos/blob/9fe6c5a18cb85998703538ac3c8dc98e40101f95/UseCases/Store_Sales_Forecasting_Prophet_STO/images/STO.png)"
   ]
  },
  {
   "cell_type": "code",
   "execution_count": null,
   "id": "0688fbe0-9546-4681-ba35-b724a48353a2",
   "metadata": {},
   "outputs": [],
   "source": [
    "import getpass\n",
    "clearscape_host = 'clearscapedemo2024mh-vvthbisb68z9it26.env.clearscape.teradata.com'\n",
    "clearscape_pw = 'clearscapedemo2024mh'"
   ]
  },
  {
   "cell_type": "code",
   "execution_count": null,
   "id": "6e9db8cf-68e8-4ffc-881a-43c079786800",
   "metadata": {},
   "outputs": [],
   "source": [
    "import warnings\n",
    "warnings.filterwarnings(\"ignore\", category=DeprecationWarning) \n",
    "warnings.filterwarnings(\"ignore\", category=FutureWarning) \n",
    "import pandas as pd\n",
    "import teradataml as tdml\n",
    "import json\n",
    "from IPython.display import display, Markdown"
   ]
  },
  {
   "cell_type": "code",
   "execution_count": null,
   "id": "fad74c49-b8c3-44ae-b6cb-c6ac6b68487a",
   "metadata": {},
   "outputs": [],
   "source": [
    "tdml.__version__"
   ]
  },
  {
   "cell_type": "markdown",
   "id": "476ee13f-ddad-4f6e-9c5c-4da32ebf53c7",
   "metadata": {},
   "source": [
    "**If you are hosting your Vantage instance on ClearScape Analytics Experience (CSAE) but running the notebook locally, ensure you spin up the environment on CSAE.**"
   ]
  },
  {
   "cell_type": "code",
   "execution_count": null,
   "id": "57db0915-31bd-45f8-acac-be8ec2b85857",
   "metadata": {},
   "outputs": [],
   "source": [
    "Param = {'database':'demo_user'}\n",
    "eng = tdml.create_context(host = clearscape_host,\n",
    "                          username='demo_user', \n",
    "                          password = clearscape_pw)\n",
    "print(eng)"
   ]
  },
  {
   "cell_type": "markdown",
   "id": "0bf0d074-1da5-4729-a013-c464708a62ab",
   "metadata": {},
   "source": [
    "## (Create) and Upload Demo Data"
   ]
  },
  {
   "cell_type": "markdown",
   "id": "9006ff61-f46d-4d33-bd7d-44bce7345e92",
   "metadata": {},
   "source": [
    "This step is specific to the demo setup. Under normal circumstances, your raw data would already be stored within Vantage."
   ]
  },
  {
   "cell_type": "code",
   "execution_count": null,
   "id": "32929867-c9f2-4826-b95f-2b3a004f6165",
   "metadata": {},
   "outputs": [],
   "source": [
    "table_name = \"sales\""
   ]
  },
  {
   "cell_type": "code",
   "execution_count": null,
   "id": "34910fa7-c3c0-475b-bb88-ae686f36d47c",
   "metadata": {},
   "outputs": [],
   "source": [
    "key = \"store_id\""
   ]
  },
  {
   "cell_type": "code",
   "execution_count": null,
   "id": "489dc7fb-eeec-4c11-a9bb-8e731fbf43d8",
   "metadata": {},
   "outputs": [],
   "source": [
    "tdml.copy_to_sql(sales_df, table_name, if_exists=\"replace\", primary_index=key)"
   ]
  },
  {
   "cell_type": "code",
   "execution_count": null,
   "id": "5d093a60-c930-4c69-bbb1-cfc2a0bd914c",
   "metadata": {},
   "outputs": [],
   "source": [
    "tdml.DataFrame(table_name).tdtypes"
   ]
  },
  {
   "cell_type": "code",
   "execution_count": null,
   "id": "a24cb8d3-f4fc-40a3-af17-ec3f07d82b57",
   "metadata": {},
   "outputs": [],
   "source": []
  },
  {
   "cell_type": "code",
   "execution_count": null,
   "id": "d72bbc0f-33cb-4620-be49-3b675fb54d38",
   "metadata": {},
   "outputs": [],
   "source": []
  },
  {
   "cell_type": "code",
   "execution_count": null,
   "id": "c9903047-09ca-4711-850e-922827644a36",
   "metadata": {},
   "outputs": [],
   "source": []
  },
  {
   "cell_type": "code",
   "execution_count": null,
   "id": "f18779ec-d210-4ac4-8118-e2226c7c5845",
   "metadata": {},
   "outputs": [],
   "source": []
  },
  {
   "cell_type": "code",
   "execution_count": null,
   "id": "330d630b-acd2-47d1-9611-8d4627da118c",
   "metadata": {},
   "outputs": [],
   "source": []
  },
  {
   "cell_type": "code",
   "execution_count": null,
   "id": "f9ef793c-5577-4950-83a4-b50fcd25273f",
   "metadata": {},
   "outputs": [],
   "source": []
  },
  {
   "cell_type": "code",
   "execution_count": null,
   "id": "8237d2f9-503e-45e8-ac72-f9a8f010ab42",
   "metadata": {},
   "outputs": [],
   "source": []
  },
  {
   "cell_type": "markdown",
   "id": "ec85c353-b37e-472f-acff-243a634e20ec",
   "metadata": {},
   "source": [
    "# understanding Script Table Operator"
   ]
  },
  {
   "cell_type": "markdown",
   "id": "ed58c2cd-dd63-40c7-9256-1af72d87d8a2",
   "metadata": {},
   "source": [
    "## How many AMPs has got our system?"
   ]
  },
  {
   "cell_type": "markdown",
   "id": "ac2b59cb-e8f0-406c-9328-cfeb37a736d7",
   "metadata": {},
   "source": [
    "__HASHAMP__\n",
    "\n",
    "Finds the primary AMP corresponding to the hash bucket number specified in the expression and returns the AMP ID. If no hash bucket number is specified, HASHAMP returns one less than the maximum number of AMPs in the system.\n",
    "\n",
    "https://docs.teradata.com/r/Enterprise_IntelliFlex_VMware/SQL-Functions-Expressions-and-Predicates/Hash-Related-Functions/HASHAMP"
   ]
  },
  {
   "cell_type": "code",
   "execution_count": null,
   "id": "94732356-4cac-42e1-8424-a4d8ea209d2f",
   "metadata": {},
   "outputs": [],
   "source": [
    "tdml.DataFrame.from_query(\"\"\"\n",
    "SELECT HASHAMP() + 1 AS Number_of_AMPs\n",
    "\"\"\")"
   ]
  },
  {
   "cell_type": "code",
   "execution_count": null,
   "id": "4ce4e0f6-d142-4e3c-917b-5282efe6c147",
   "metadata": {},
   "outputs": [],
   "source": []
  },
  {
   "cell_type": "code",
   "execution_count": null,
   "id": "b212275f-7b4b-45f6-84ca-af54691c4135",
   "metadata": {},
   "outputs": [],
   "source": []
  },
  {
   "cell_type": "code",
   "execution_count": null,
   "id": "1397f931-de55-4183-99b1-71701e536d30",
   "metadata": {},
   "outputs": [],
   "source": []
  },
  {
   "cell_type": "code",
   "execution_count": null,
   "id": "37abe914-c55c-490f-8e25-256f3fb61ef6",
   "metadata": {},
   "outputs": [],
   "source": []
  },
  {
   "cell_type": "code",
   "execution_count": null,
   "id": "09ec631e-9fae-4538-a021-3e65c8f36f5d",
   "metadata": {},
   "outputs": [],
   "source": []
  },
  {
   "cell_type": "code",
   "execution_count": null,
   "id": "1b21ecfd-3617-4b61-a3c8-550433affa44",
   "metadata": {},
   "outputs": [],
   "source": []
  },
  {
   "cell_type": "code",
   "execution_count": null,
   "id": "835ef165-7cf0-414c-803b-102441ca75e2",
   "metadata": {},
   "outputs": [],
   "source": []
  },
  {
   "cell_type": "code",
   "execution_count": null,
   "id": "214016d3-aed1-4a3b-90ac-7ac076d41ce4",
   "metadata": {},
   "outputs": [],
   "source": []
  },
  {
   "cell_type": "code",
   "execution_count": null,
   "id": "41db60d0-6783-414b-8315-21dfa6990b5b",
   "metadata": {},
   "outputs": [],
   "source": []
  },
  {
   "cell_type": "code",
   "execution_count": null,
   "id": "603494c1-f2f2-4222-8476-0521fa21ba6f",
   "metadata": {},
   "outputs": [],
   "source": []
  },
  {
   "cell_type": "markdown",
   "id": "9c222325-beee-4cd0-af09-9b87e5343ec0",
   "metadata": {},
   "source": [
    "## first shell script"
   ]
  },
  {
   "cell_type": "code",
   "execution_count": null,
   "id": "316910ba-b06d-404a-b73c-cdfa5e53a0bf",
   "metadata": {},
   "outputs": [],
   "source": [
    "def get_script_query(script_command, distinct= False):\n",
    "    d = \"\"\n",
    "    if distinct:\n",
    "        d = \"DISTINCT\"\n",
    "    return (\n",
    "f\"\"\"\n",
    "SELECT\n",
    " {d} *\n",
    "FROM\n",
    "  SCRIPT (\n",
    "    SCRIPT_COMMAND ('{script_command}') \n",
    "    RETURNS ('Message varchar(512)')\n",
    "  )\n",
    "\"\"\")"
   ]
  },
  {
   "cell_type": "code",
   "execution_count": null,
   "id": "70f5d62a-ebaa-4435-80db-376fec183529",
   "metadata": {},
   "outputs": [],
   "source": [
    "script_command = \"echo Hello World!\""
   ]
  },
  {
   "cell_type": "code",
   "execution_count": null,
   "id": "8e79f474-8f36-4777-8d7e-2ffa493bc923",
   "metadata": {},
   "outputs": [],
   "source": [
    "# local execution\n",
    "!$script_command"
   ]
  },
  {
   "cell_type": "code",
   "execution_count": null,
   "id": "4afebb06-3f7c-4d9b-9655-5ee7442f4125",
   "metadata": {},
   "outputs": [],
   "source": [
    "#inside Vantage\n",
    "tdml.DataFrame.from_query(get_script_query(\n",
    "    script_command\n",
    "))"
   ]
  },
  {
   "cell_type": "code",
   "execution_count": null,
   "id": "80fcf10c-a549-4fb7-8deb-4e30206745f4",
   "metadata": {},
   "outputs": [],
   "source": []
  },
  {
   "cell_type": "code",
   "execution_count": null,
   "id": "9f85a88b-b623-4a8d-b4dd-21740df2dee2",
   "metadata": {},
   "outputs": [],
   "source": []
  },
  {
   "cell_type": "code",
   "execution_count": null,
   "id": "20bc49db-df73-4459-9bc6-8c4aaec3304b",
   "metadata": {},
   "outputs": [],
   "source": []
  },
  {
   "cell_type": "code",
   "execution_count": null,
   "id": "edbd91bd-eb70-4a55-9551-89aaa9742122",
   "metadata": {},
   "outputs": [],
   "source": []
  },
  {
   "cell_type": "code",
   "execution_count": null,
   "id": "8f19fb30-9abb-4156-856e-b866d1b3aca5",
   "metadata": {},
   "outputs": [],
   "source": []
  },
  {
   "cell_type": "code",
   "execution_count": null,
   "id": "5fe90caf-7d4d-481f-aac1-7a99167ec7e4",
   "metadata": {},
   "outputs": [],
   "source": []
  },
  {
   "cell_type": "code",
   "execution_count": null,
   "id": "db71d31b-7c32-4346-b297-8335f01d01f7",
   "metadata": {},
   "outputs": [],
   "source": []
  },
  {
   "cell_type": "code",
   "execution_count": null,
   "id": "94fb0f1d-5fb1-43de-afec-791dc441106b",
   "metadata": {},
   "outputs": [],
   "source": []
  },
  {
   "cell_type": "markdown",
   "id": "760c59a9-b3c8-4515-bfb0-c47f47181d27",
   "metadata": {},
   "source": [
    "## first python script"
   ]
  },
  {
   "cell_type": "code",
   "execution_count": null,
   "id": "dc04b8fa-ed5b-41c3-be91-ee1bc5b5afe5",
   "metadata": {},
   "outputs": [],
   "source": [
    "python_code = \"print(123)\""
   ]
  },
  {
   "cell_type": "code",
   "execution_count": null,
   "id": "cf5839bf-15ae-401c-8036-f4e884ccb45c",
   "metadata": {},
   "outputs": [],
   "source": [
    "!python -c \"$python_code\""
   ]
  },
  {
   "cell_type": "markdown",
   "id": "1227383c-293e-4098-97a5-09e0b2137682",
   "metadata": {},
   "source": [
    "__note the python interpreter has the name tdpython3 inside Vantage__"
   ]
  },
  {
   "cell_type": "code",
   "execution_count": null,
   "id": "f1e33a35-5379-4728-8ed5-9780756373a4",
   "metadata": {},
   "outputs": [],
   "source": [
    "tdml.DataFrame.from_query(get_script_query(\n",
    "    f'tdpython3 -c \"{python_code}\"'\n",
    "))"
   ]
  },
  {
   "cell_type": "code",
   "execution_count": null,
   "id": "998ad162-3384-4719-b009-06155dc3578f",
   "metadata": {},
   "outputs": [],
   "source": []
  },
  {
   "cell_type": "code",
   "execution_count": null,
   "id": "b80a7659-b21d-4caf-9fab-bb2a0c80d4eb",
   "metadata": {},
   "outputs": [],
   "source": []
  },
  {
   "cell_type": "code",
   "execution_count": null,
   "id": "83dc5662-0183-4f9a-8dfe-b78b2c20a815",
   "metadata": {},
   "outputs": [],
   "source": []
  },
  {
   "cell_type": "code",
   "execution_count": null,
   "id": "de44619a-6804-4cc9-95da-9ef3e9a09efe",
   "metadata": {},
   "outputs": [],
   "source": []
  },
  {
   "cell_type": "code",
   "execution_count": null,
   "id": "1b8e02aa-7200-4139-a720-52a5331a706a",
   "metadata": {},
   "outputs": [],
   "source": []
  },
  {
   "cell_type": "code",
   "execution_count": null,
   "id": "44ccb0a8-3ea3-4b00-a961-163af1c00730",
   "metadata": {},
   "outputs": [],
   "source": []
  },
  {
   "cell_type": "code",
   "execution_count": null,
   "id": "e0563993-0e79-4342-bc97-df5ae3aae6e9",
   "metadata": {},
   "outputs": [],
   "source": []
  },
  {
   "cell_type": "markdown",
   "id": "4d5409b8-019e-461e-962a-4cce90e66af9",
   "metadata": {},
   "source": [
    "## install and run simple python script"
   ]
  },
  {
   "cell_type": "code",
   "execution_count": null,
   "id": "b597b6f0-c3f6-408e-84e1-a53430e7ddbe",
   "metadata": {},
   "outputs": [],
   "source": [
    "%%writefile print1234.py\n",
    "print(1234)"
   ]
  },
  {
   "cell_type": "code",
   "execution_count": null,
   "id": "b28e1a50-b4c3-4e5c-a848-84e7dfc9ab51",
   "metadata": {},
   "outputs": [],
   "source": [
    "%run print1234.py"
   ]
  },
  {
   "cell_type": "code",
   "execution_count": null,
   "id": "6358dca6-9e55-464f-9fc0-39a9e3770ebc",
   "metadata": {},
   "outputs": [],
   "source": [
    "try:\n",
    "    tdml.execute_sql(\"call SYSUIF.INSTALL_FILE('print1234', 'print1234.py', 'cz!./print1234.py');\")\n",
    "except:    \n",
    "    tdml.execute_sql(\"call SYSUIF.REMOVE_FILE('print1234', 1);\")\n",
    "    tdml.execute_sql(\"call SYSUIF.INSTALL_FILE('print1234', 'print1234.py', 'cz!./print1234.py');\")"
   ]
  },
  {
   "cell_type": "code",
   "execution_count": null,
   "id": "f0b8cf00-2278-4b24-bf07-91e13d4a9c4a",
   "metadata": {},
   "outputs": [],
   "source": [
    "tdml.execute_sql(\"SET SESSION SEARCHUIFDBPATH = demo_user\")"
   ]
  },
  {
   "cell_type": "code",
   "execution_count": null,
   "id": "5add83cf-3fab-4fc1-ac8d-0e0418dd0e3b",
   "metadata": {},
   "outputs": [],
   "source": [
    "tdml.DataFrame.from_query(get_script_query(\n",
    "    f'tdpython3 ./demo_user/print1234.py'\n",
    "))"
   ]
  },
  {
   "cell_type": "code",
   "execution_count": null,
   "id": "dab40e17-776c-4a15-ade6-fad8942761ac",
   "metadata": {},
   "outputs": [],
   "source": []
  },
  {
   "cell_type": "code",
   "execution_count": null,
   "id": "faadf864-d102-4dc2-80d8-75becafc588e",
   "metadata": {},
   "outputs": [],
   "source": []
  },
  {
   "cell_type": "code",
   "execution_count": null,
   "id": "a89d58cb-5af3-47ce-95e7-ebecb0f8ec09",
   "metadata": {},
   "outputs": [],
   "source": []
  },
  {
   "cell_type": "code",
   "execution_count": null,
   "id": "476fba84-1da0-4143-bea8-4d92f256c179",
   "metadata": {},
   "outputs": [],
   "source": []
  },
  {
   "cell_type": "code",
   "execution_count": null,
   "id": "a0539594-3f39-43a9-b33c-e3777bf17ebd",
   "metadata": {},
   "outputs": [],
   "source": []
  },
  {
   "cell_type": "code",
   "execution_count": null,
   "id": "ba1899fe-4b8a-4a56-b52c-65320864689c",
   "metadata": {},
   "outputs": [],
   "source": []
  },
  {
   "cell_type": "code",
   "execution_count": null,
   "id": "9b81c0ff-efbf-4326-9c4a-0298ee792f05",
   "metadata": {},
   "outputs": [],
   "source": []
  },
  {
   "cell_type": "code",
   "execution_count": null,
   "id": "b55e09d2-b943-4c05-a2fe-0b877a4427b7",
   "metadata": {},
   "outputs": [],
   "source": []
  },
  {
   "cell_type": "code",
   "execution_count": null,
   "id": "de3bfdeb-3208-44ab-9fe2-6f99f9cf531b",
   "metadata": {},
   "outputs": [],
   "source": []
  },
  {
   "cell_type": "code",
   "execution_count": null,
   "id": "d7e2292b-2d41-4045-b32f-fe2803d9a1aa",
   "metadata": {},
   "outputs": [],
   "source": []
  },
  {
   "cell_type": "code",
   "execution_count": null,
   "id": "0cc8544c-a5fe-4b44-80d4-8ae2007d3b5b",
   "metadata": {},
   "outputs": [],
   "source": []
  },
  {
   "cell_type": "markdown",
   "id": "89183beb-0756-41c5-b52d-a497cabdc708",
   "metadata": {},
   "source": [
    "# Let's put the prophet script into a format that can be consumed by in database Python"
   ]
  },
  {
   "cell_type": "markdown",
   "id": "b9691ee6-915d-428a-aa69-aacd57419761",
   "metadata": {},
   "source": [
    "We need to adjust take care of the following parts:\n",
    "\n",
    "1. reading data from standard input into a pandas dataframe\n",
    "2. doing the actual payload (modelling and prediction with Prophet)\n",
    "    - avoid any output to the console from the function\n",
    "3. putting the result to standard output (print)\n",
    "4. adjusting the SCRIPT SQL query"
   ]
  },
  {
   "cell_type": "code",
   "execution_count": null,
   "id": "6af7b0cd-d1e6-43b7-8582-d04bdc51812c",
   "metadata": {},
   "outputs": [],
   "source": []
  },
  {
   "cell_type": "code",
   "execution_count": null,
   "id": "f0d89a33-a140-4a2c-8727-a7df8211f116",
   "metadata": {},
   "outputs": [],
   "source": []
  },
  {
   "cell_type": "code",
   "execution_count": null,
   "id": "8a11abe2-7df9-4c51-8f92-90d1fe5b77de",
   "metadata": {},
   "outputs": [],
   "source": []
  },
  {
   "cell_type": "code",
   "execution_count": null,
   "id": "2555a5fd-92c7-4daa-8b03-80586665e295",
   "metadata": {},
   "outputs": [],
   "source": []
  },
  {
   "cell_type": "code",
   "execution_count": null,
   "id": "4ef59bec-8313-4513-90a2-c690ecda22d3",
   "metadata": {},
   "outputs": [],
   "source": []
  },
  {
   "cell_type": "code",
   "execution_count": null,
   "id": "a85452da-7073-4f7e-af55-8dc277663d16",
   "metadata": {},
   "outputs": [],
   "source": []
  },
  {
   "cell_type": "code",
   "execution_count": null,
   "id": "873ca729-c84b-4186-81ab-df4e65dbc6b3",
   "metadata": {},
   "outputs": [],
   "source": []
  },
  {
   "cell_type": "code",
   "execution_count": null,
   "id": "4a0a6784-7677-44d1-ba0e-57e2860248c9",
   "metadata": {},
   "outputs": [],
   "source": []
  },
  {
   "cell_type": "markdown",
   "id": "9000536f-9c25-4b86-b439-93dc18f98b7b",
   "metadata": {},
   "source": [
    "### Part 1: Get data in Script\n",
    "```python\n",
    "from datetime import datetime\n",
    "import sys\n",
    "import pandas as pd\n",
    "import numpy as np\n",
    "import time\n",
    "\n",
    "xcols = [\"store_id\",\"product_id\",\"datestamp\",\"items_sold\"]\n",
    "\n",
    "dfIn = pd.read_csv(sys.stdin, sep=\"\\t\", header=None, names= xcols,\n",
    "                   index_col=False, iterator=False, \n",
    "                   dtype = {  \"items_sold\" : np.int64 },\n",
    "                   parse_dates=[\"datestamp\"]\n",
    "                  )\n",
    "\n",
    "\n",
    "\n",
    "# For AMPs that receive no data, exit the script instance gracefully.\n",
    "if dfIn.empty:\n",
    "    sys.exit()\n",
    "\n",
    "    \n",
    "```"
   ]
  },
  {
   "cell_type": "code",
   "execution_count": null,
   "id": "1225dbdb-cd6d-4115-b922-91f1942959ba",
   "metadata": {},
   "outputs": [],
   "source": []
  },
  {
   "cell_type": "code",
   "execution_count": null,
   "id": "cf9baf56-c3fc-43f2-b1d5-94dfacdd6c6f",
   "metadata": {},
   "outputs": [],
   "source": []
  },
  {
   "cell_type": "code",
   "execution_count": null,
   "id": "64bfbbf5-7e73-417a-adc0-67a86314e796",
   "metadata": {},
   "outputs": [],
   "source": []
  },
  {
   "cell_type": "code",
   "execution_count": null,
   "id": "fd592e28-f07b-41fe-8d9c-f7813bebf6b5",
   "metadata": {},
   "outputs": [],
   "source": []
  },
  {
   "cell_type": "code",
   "execution_count": null,
   "id": "36044495-e453-417b-b97a-b5de731e5c40",
   "metadata": {},
   "outputs": [],
   "source": []
  },
  {
   "cell_type": "code",
   "execution_count": null,
   "id": "a1be6ea8-c9dd-4c54-8eaf-4dff9d6232ab",
   "metadata": {},
   "outputs": [],
   "source": []
  },
  {
   "cell_type": "markdown",
   "id": "4ee05abb-fc43-48ec-9080-6aba169fc3ec",
   "metadata": {},
   "source": [
    "### Part 2: Actuall modelling: Loop within each AMP\n",
    "```python\n",
    "from prophet import Prophet\n",
    "\n",
    "def predict_sales(sales_df, future_days=28):\n",
    "    predictions = []\n",
    "    store_product_combinations = sales_df[['store_id', 'product_id']].drop_duplicates()\n",
    "    \n",
    "    for _, row in store_product_combinations.iterrows():\n",
    "        store_id = row['store_id']\n",
    "        product_id = row['product_id']\n",
    "        \n",
    "        # Filter data for the current store and product\n",
    "        df = sales_df[(sales_df['store_id'] == store_id) & (sales_df['product_id'] == product_id)]\n",
    "        df = df[['datestamp', 'items_sold']].rename(columns={'datestamp': 'ds', 'items_sold': 'y'})\n",
    "\n",
    "        # Fit the Prophet model\n",
    "        model = Prophet(daily_seasonality=True, yearly_seasonality=True)\n",
    "        model.fit(df)\n",
    "\n",
    "        # Create future dataframe for predictions\n",
    "        future = model.make_future_dataframe(periods=future_days)\n",
    "        \n",
    "        # Predict future sales\n",
    "        forecast = model.predict(future)\n",
    "        \n",
    "        # Select only the future days and relevant columns\n",
    "        forecast = forecast[['ds', 'yhat']].tail(future_days)\n",
    "        forecast['store_id'] = store_id\n",
    "        forecast['product_id'] = product_id\n",
    "        \n",
    "        predictions.append(forecast)\n",
    "\n",
    "    # Combine all predictions into a single DataFrame\n",
    "    predictions_df = pd.concat(predictions, ignore_index=True)\n",
    "    predictions_df.rename(columns={'ds': 'datestamp', 'yhat': 'predicted_items_sold'}, inplace=True)\n",
    "    \n",
    "    return predictions_df\n",
    "\n",
    "\n",
    "sales_pred_df = predict_sales(dfIn.sort_values(['store_id', 'product_id','datestamp']))\n",
    "    \n",
    "```"
   ]
  },
  {
   "cell_type": "code",
   "execution_count": null,
   "id": "9609d0a2-7f86-476a-9da3-27eb6a5bb859",
   "metadata": {},
   "outputs": [],
   "source": []
  },
  {
   "cell_type": "code",
   "execution_count": null,
   "id": "c80cb8d9-223c-4acd-ae6d-f9c83e57394b",
   "metadata": {},
   "outputs": [],
   "source": []
  },
  {
   "cell_type": "code",
   "execution_count": null,
   "id": "5853fca7-dbcb-4ab0-8711-230a5ae54a5e",
   "metadata": {},
   "outputs": [],
   "source": []
  },
  {
   "cell_type": "code",
   "execution_count": null,
   "id": "dba51766-04a3-43c0-b76b-006cf11420b7",
   "metadata": {},
   "outputs": [],
   "source": []
  },
  {
   "cell_type": "code",
   "execution_count": null,
   "id": "390b5b04-8232-4de5-9eda-33443785cf13",
   "metadata": {},
   "outputs": [],
   "source": []
  },
  {
   "cell_type": "code",
   "execution_count": null,
   "id": "7eca2bf9-08bd-42fe-b85f-6aba56cf7be1",
   "metadata": {},
   "outputs": [],
   "source": []
  },
  {
   "cell_type": "code",
   "execution_count": null,
   "id": "6ce6c4d8-622e-4653-aeb3-0afe51e93eed",
   "metadata": {},
   "outputs": [],
   "source": []
  },
  {
   "cell_type": "markdown",
   "id": "81d3ede5-1471-4d05-be27-27e904ec99c5",
   "metadata": {
    "tags": []
   },
   "source": [
    "### Part 3: returning everything to standard output via print\n",
    "```python\n",
    "for _, row in sales_pred_df.iterrows():\n",
    "    print('\\t'.join(map(str, row.values)))\n",
    "    \n",
    "```"
   ]
  },
  {
   "cell_type": "code",
   "execution_count": null,
   "id": "2a66f6c1-3c47-4c9d-b6cc-3a73dd7936f1",
   "metadata": {},
   "outputs": [],
   "source": []
  },
  {
   "cell_type": "code",
   "execution_count": null,
   "id": "e91db967-53c9-410c-b967-5a0955a8b359",
   "metadata": {},
   "outputs": [],
   "source": []
  },
  {
   "cell_type": "code",
   "execution_count": null,
   "id": "6804298f-9b47-4f12-847d-52473a20eafd",
   "metadata": {},
   "outputs": [],
   "source": []
  },
  {
   "cell_type": "code",
   "execution_count": null,
   "id": "0e686c19-6065-4203-a5f1-8be446bd5076",
   "metadata": {},
   "outputs": [],
   "source": []
  },
  {
   "cell_type": "code",
   "execution_count": null,
   "id": "1b21ea7b-567a-4abd-b633-5e7d7486ab95",
   "metadata": {},
   "outputs": [],
   "source": []
  },
  {
   "cell_type": "code",
   "execution_count": null,
   "id": "6aa7b3f0-6d17-47f5-a97b-485a7ca99e58",
   "metadata": {},
   "outputs": [],
   "source": []
  },
  {
   "cell_type": "code",
   "execution_count": null,
   "id": "3106e99d-8724-497b-b978-38828c12c931",
   "metadata": {},
   "outputs": [],
   "source": []
  },
  {
   "cell_type": "code",
   "execution_count": null,
   "id": "d36b575b-2fc8-40c0-b347-e947fb993184",
   "metadata": {},
   "outputs": [],
   "source": []
  },
  {
   "cell_type": "markdown",
   "id": "067e4d5f-7b23-4c87-ae41-ba97bcf751e8",
   "metadata": {},
   "source": [
    "## write file & install it"
   ]
  },
  {
   "cell_type": "code",
   "execution_count": null,
   "id": "ba85954f-525c-4d6b-a538-ffe1867db9f6",
   "metadata": {
    "tags": []
   },
   "outputs": [],
   "source": [
    "%%writefile myprophet.py\n",
    "from datetime import datetime\n",
    "import sys\n",
    "import pandas as pd\n",
    "import numpy as np\n",
    "import time\n",
    "\n",
    "xcols = [\"store_id\",\"product_id\",\"datestamp\",\"items_sold\"]\n",
    "\n",
    "dfIn = pd.read_csv(sys.stdin, sep=\"\\t\", header=None, names= xcols,\n",
    "                   index_col=False, iterator=False, \n",
    "                   dtype = {  \"items_sold\" : np.int64 },\n",
    "                   parse_dates=[\"datestamp\"]\n",
    "                  )\n",
    "\n",
    "\n",
    "\n",
    "# For AMPs that receive no data, exit the script instance gracefully.\n",
    "if dfIn.empty:\n",
    "    sys.exit()\n",
    "\n",
    "from prophet import Prophet\n",
    "\n",
    "def predict_sales(sales_df, future_days=28):\n",
    "    predictions = []\n",
    "    store_product_combinations = sales_df[['store_id', 'product_id']].drop_duplicates()\n",
    "    \n",
    "    for _, row in store_product_combinations.iterrows():\n",
    "        store_id = row['store_id']\n",
    "        product_id = row['product_id']\n",
    "        \n",
    "        # Filter data for the current store and product\n",
    "        df = sales_df[(sales_df['store_id'] == store_id) & (sales_df['product_id'] == product_id)]\n",
    "        df = df[['datestamp', 'items_sold']].rename(columns={'datestamp': 'ds', 'items_sold': 'y'})\n",
    "\n",
    "        # Fit the Prophet model\n",
    "        model = Prophet(daily_seasonality=True, yearly_seasonality=True)\n",
    "        model.fit(df)\n",
    "\n",
    "        # Create future dataframe for predictions\n",
    "        future = model.make_future_dataframe(periods=future_days)\n",
    "        \n",
    "        # Predict future sales\n",
    "        forecast = model.predict(future)\n",
    "        \n",
    "        # Select only the future days and relevant columns\n",
    "        forecast = forecast[['ds', 'yhat']].tail(future_days)\n",
    "        forecast['store_id'] = store_id\n",
    "        forecast['product_id'] = product_id\n",
    "        \n",
    "        predictions.append(forecast)\n",
    "\n",
    "    # Combine all predictions into a single DataFrame\n",
    "    predictions_df = pd.concat(predictions, ignore_index=True)\n",
    "    predictions_df.rename(columns={'ds': 'datestamp', 'yhat': 'predicted_items_sold'}, inplace=True)\n",
    "    \n",
    "    return predictions_df\n",
    "\n",
    "\n",
    "sales_pred_df = predict_sales(dfIn.sort_values(['store_id', 'product_id','datestamp']))\n",
    "\n",
    "for _, row in sales_pred_df.iterrows():\n",
    "    print('\\t'.join(map(str, row.values)))"
   ]
  },
  {
   "cell_type": "code",
   "execution_count": null,
   "id": "dcb0757d-c9cb-4691-b753-a385744ed01f",
   "metadata": {},
   "outputs": [],
   "source": [
    "try:\n",
    "    tdml.execute_sql(\"call SYSUIF.INSTALL_FILE('myprophet', 'myprophet.py', 'cz!./myprophet.py');\")\n",
    "except:    \n",
    "    tdml.execute_sql(\"call SYSUIF.REMOVE_FILE('myprophet', 1);\")\n",
    "    tdml.execute_sql(\"call SYSUIF.INSTALL_FILE('myprophet', 'myprophet.py', 'cz!./myprophet.py');\")"
   ]
  },
  {
   "cell_type": "code",
   "execution_count": null,
   "id": "3a611cd4-a35a-4405-b16b-8199b028c179",
   "metadata": {},
   "outputs": [],
   "source": [
    "tdml.execute_sql(\"SET SESSION SEARCHUIFDBPATH = demo_user\")"
   ]
  },
  {
   "cell_type": "code",
   "execution_count": null,
   "id": "4dc57731-717e-4acd-92a7-d0a667b89383",
   "metadata": {},
   "outputs": [],
   "source": []
  },
  {
   "cell_type": "code",
   "execution_count": null,
   "id": "1d97e072-e601-4319-b85d-936c3270f074",
   "metadata": {},
   "outputs": [],
   "source": []
  },
  {
   "cell_type": "code",
   "execution_count": null,
   "id": "91670d86-cdbd-4683-9bc9-d10b73d60d39",
   "metadata": {},
   "outputs": [],
   "source": []
  },
  {
   "cell_type": "code",
   "execution_count": null,
   "id": "e2ce506a-3104-4d59-93bc-9f4cb642088a",
   "metadata": {},
   "outputs": [],
   "source": []
  },
  {
   "cell_type": "code",
   "execution_count": null,
   "id": "e549ab41-475e-4d5e-b86d-50675be49ef7",
   "metadata": {},
   "outputs": [],
   "source": []
  },
  {
   "cell_type": "code",
   "execution_count": null,
   "id": "030de8b3-a3b8-4cf7-a2be-11bf2788adca",
   "metadata": {},
   "outputs": [],
   "source": []
  },
  {
   "cell_type": "code",
   "execution_count": null,
   "id": "195a227a-1ce3-427e-9fe6-d5ae2d558c27",
   "metadata": {},
   "outputs": [],
   "source": []
  },
  {
   "cell_type": "code",
   "execution_count": null,
   "id": "48f00752-49d3-4eb3-8a24-4bf0b66f21fd",
   "metadata": {},
   "outputs": [],
   "source": []
  },
  {
   "cell_type": "code",
   "execution_count": null,
   "id": "325e95ef-9b0a-486f-99ed-c4007244b409",
   "metadata": {},
   "outputs": [],
   "source": []
  },
  {
   "cell_type": "markdown",
   "id": "e01010ae-5f48-4568-931a-0b742e3ea9ae",
   "metadata": {},
   "source": [
    "# Ececute Script"
   ]
  },
  {
   "cell_type": "code",
   "execution_count": null,
   "id": "fdc82607-fe73-449b-8b6e-b31e32b6b481",
   "metadata": {},
   "outputs": [],
   "source": [
    "tdml.DataFrame.from_query(\"\"\"\n",
    "SELECT\n",
    "  TRYCAST(datestamp AS TIMESTAMP) AS datestamp,\n",
    "  TRYCAST(predicted_items_sold AS FLOAT) AS predicted_items_sold,\n",
    "  store_id,\n",
    "  product_id\n",
    "FROM\n",
    "  SCRIPT (\n",
    "    ON  sales\n",
    "    HASH BY store_id\n",
    "    SCRIPT_COMMAND ('tdpython3 ./demo_user/myprophet.py') \n",
    "    RETURNS ('datestamp VARCHAR(100), predicted_items_sold VARCHAR(100), store_id VARCHAR(100), product_id  VARCHAR(100)')\n",
    "  )\n",
    "\"\"\").to_sql(\"sales_forecast\", if_exists=\"replace\", primary_index=\"store_id\")"
   ]
  },
  {
   "cell_type": "code",
   "execution_count": null,
   "id": "dfb45caa-8328-45c7-8827-aa67ce2dfb77",
   "metadata": {},
   "outputs": [],
   "source": [
    "DF_Forecast = tdml.DataFrame(\"sales_forecast\")\n",
    "DF_Forecast"
   ]
  },
  {
   "cell_type": "code",
   "execution_count": null,
   "id": "1c8c36a8-73ac-4443-92bd-a43d0fe63765",
   "metadata": {},
   "outputs": [],
   "source": [
    "#DF_Forecast.to_pandas().to_csv(\"forecasts.csv\")"
   ]
  },
  {
   "cell_type": "code",
   "execution_count": null,
   "id": "57ab5f24-5a13-4a4e-8db1-cfd7ea07954f",
   "metadata": {},
   "outputs": [],
   "source": []
  },
  {
   "cell_type": "code",
   "execution_count": null,
   "id": "6487abfa-b7b9-42e6-9b65-2a0f2df6ec6d",
   "metadata": {},
   "outputs": [],
   "source": []
  },
  {
   "cell_type": "code",
   "execution_count": null,
   "id": "2bb3967f-b8e4-4758-b4e3-cf0adb7111e9",
   "metadata": {},
   "outputs": [],
   "source": []
  },
  {
   "cell_type": "code",
   "execution_count": null,
   "id": "848314e5-b78e-46cd-aaf9-ea9e1d8b98ee",
   "metadata": {},
   "outputs": [],
   "source": []
  },
  {
   "cell_type": "markdown",
   "id": "35fc26ad-8d5e-4bd1-9ff3-cd4c14f80aa2",
   "metadata": {},
   "source": [
    "# Beyond Prophet"
   ]
  },
  {
   "cell_type": "markdown",
   "id": "fc6defc4-9caf-4400-841e-1cbcde68622d",
   "metadata": {},
   "source": [
    "- use STO to separate model fitting and inference, by saving hypersegmented models als BLOB type in a table\n",
    "- do Image Analysis by reading from Native Object Store\n",
    "- anything that is possible in Python..."
   ]
  },
  {
   "cell_type": "code",
   "execution_count": null,
   "id": "8db42355-5fde-463e-9604-0bc3058f1e77",
   "metadata": {},
   "outputs": [],
   "source": [
    "tdml.remove_context()"
   ]
  },
  {
   "cell_type": "code",
   "execution_count": null,
   "id": "65338a26-3175-4448-a57e-551e81208adc",
   "metadata": {},
   "outputs": [],
   "source": []
  }
 ],
 "metadata": {
  "kernelspec": {
   "display_name": "Python 3 (ipykernel)",
   "language": "python",
   "name": "python3"
  },
  "language_info": {
   "codemirror_mode": {
    "name": "ipython",
    "version": 3
   },
   "file_extension": ".py",
   "mimetype": "text/x-python",
   "name": "python",
   "nbconvert_exporter": "python",
   "pygments_lexer": "ipython3",
   "version": "3.9.10"
  }
 },
 "nbformat": 4,
 "nbformat_minor": 5
}
