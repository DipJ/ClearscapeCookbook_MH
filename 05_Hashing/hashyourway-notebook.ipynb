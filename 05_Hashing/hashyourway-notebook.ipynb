{
 "cells": [
  {
   "cell_type": "markdown",
   "id": "566f2242-7fa7-4bf5-be69-0269f6010913",
   "metadata": {},
   "source": [
    "<header>\n",
    "   <p  style='font-size:36px;font-family:Arial; color:#F0F0F0; background-color: #00233c; padding-left: 20pt; padding-top: 20pt;padding-bottom: 10pt; padding-right: 20pt;'>\n",
    "       Hash Your Way to Data Science Glory!\n",
    " <br>       \n",
    "       <img id=\"teradata-logo\" src=\"https://storage.googleapis.com/clearscape_analytics_demo_data/DEMO_Logo/teradata.svg\" alt=\"Teradata\" style=\"width: 150px; height: auto; margin-top: 20pt;\">\n",
    "  <br>\n",
    "    </p>\n",
    "</header>"
   ]
  },
  {
   "cell_type": "markdown",
   "id": "1b15adb9-14b4-457f-b55d-64bf2c7746c3",
   "metadata": {},
   "source": [
    "__This notebook contains all the code that was used for the Medium blog post https://medium.com/teradata/hash-your-way-to-data-science-glory-5cb07cea4d5f__"
   ]
  },
  {
   "cell_type": "markdown",
   "id": "1e1894ef-f0de-4a27-97e0-b4b1bf7788b3",
   "metadata": {},
   "source": [
    "You can run it on https://clearscape.teradata.com  "
   ]
  },
  {
   "cell_type": "markdown",
   "id": "0b463c94-9b39-4865-b9b3-87cce3ded8f6",
   "metadata": {},
   "source": [
    "# Intro"
   ]
  },
  {
   "cell_type": "markdown",
   "id": "09bab1bf-d29e-4886-808b-1db2f1bc3326",
   "metadata": {},
   "source": [
    "Everything in the world has a half-life, a concept that resonates deeply within the realms of both science and technology. This principle was underscored by many of my university professors, who advised us to prioritize understanding core concepts over chasing the latest tech trends, given their transient nature. One such enduring concept is hashing, whose significance in data science workflows I've only fully appreciated years after my exams.\n",
    "\n",
    "Hashing lies at the heart of Teradata technology, particularly its capacity for massive parallel processing (MPP) (https://www.teradata.com/resources/white-papers/born-to-be-parallel-and-beyond) . This capability hinges on efficient data access and retrieval, powered by a robust hashing function. While the mechanics of hashing might remain behind the scenes for most users, gaining an understanding of how it works can be incredibly beneficial. \n",
    "\n",
    "In this blog post, I'll demonstrate through four use cases how hashing can be a game-changer in the workflow of a data scientist. These four use cases are:\n",
    "\n",
    "1.\tPseudonymize a categorical feature\n",
    "   \n",
    "2.\tSplitting data into random subsets for train, evaluate and test\n",
    "   \n",
    "3.\tEncode a categorical feature with unknown number of values in buckets\n",
    "   \n",
    "4.\tEncode a categorical feature with known number of values without collisions\n",
    "\n",
    "\n",
    "Before that, let’s start with the basics. What is hashing and what are the qualities of a hashing function?\n"
   ]
  },
  {
   "cell_type": "markdown",
   "id": "236b271d-ad92-4e48-a4ca-2bb68dda1565",
   "metadata": {},
   "source": [
    "# About Hashing"
   ]
  },
  {
   "cell_type": "markdown",
   "id": "12df9c44-1642-4716-bcfc-dedf0ae0b836",
   "metadata": {},
   "source": [
    "In simple terms, a hash function is a special mathematical algorithm that takes input data of any size and produces a fixed-size string of characters, which typically looks like a random sequence of letters and numbers. Think of it as a unique digital fingerprint for the data. No matter how large or small the input is, the hash function generates a fixed-length output. For example, whether you're hashing a single word like \"hello\" or an entire book, the output (hash) will be of a consistent length.\n",
    "\n",
    "Teradata's efficiency highly relies on its hashing function. Let's highlight some key properties of the Teradata hash function\n",
    "\n",
    "- Deterministic: The same input will always produce the same output.\n",
    "- Fast computation: It's quick to calculate the hash for any given data, hence insertion/ reading will be fast\n",
    "- Non-invertible: It's practically impossible to reverse the process, meaning you can't easily figure out the original input from the hash output.\n",
    "- Collision-resistant: It's extremely unlikely (though not impossible) that two different inputs will produce the same output hash. This depends on the length of the output token. When converted to an integer, the results from the HASHROW function can have over 4 billion different codes, 4,294,967,295 hash codes to be precise\n",
    "- Uniform: When your input unique, such as a primary key, the output will be uniform, once you process it further with the modulo operator.\n",
    "\n",
    "But let's not be just theoretic. It is much easier to grasp with a demo data set. For our demonstration, we will rely on the Adult dataset, also known as the \"Census Income\" dataset from the UCI Machine Learning Repository (https://archive.ics.uci.edu/dataset/2/adult) . It comprises 48,842 instances with 14 features, aimed at predicting whether an individual's income exceeds $50,000 per year based on census data. The dataset includes a mix of categorical and integer feature types, covering demographic attributes such as age, work class, education, marital status, occupation, relationship, race, and sex.\n",
    " \n",
    "To start with, we can use the ClearScape analytics demo environment (Sign up for free here: https://clearscape.teradata.com/), which comes with a Jupyter Hub environment and a Vantage Cloud instance.\n"
   ]
  },
  {
   "cell_type": "markdown",
   "id": "2a56cbc6-b720-45f4-bec0-6bd784b97a68",
   "metadata": {},
   "source": [
    "First, let's create a database connection and populate a table in Vantage with the census income data set."
   ]
  },
  {
   "cell_type": "code",
   "execution_count": 1,
   "id": "a8cf71c9-77dc-4727-8b49-99d6e2162382",
   "metadata": {},
   "outputs": [],
   "source": [
    "host = \"enter your host name here, can be found on the ClearScape Experience Dashboard\"\n",
    "username = \"demo_user\"\n",
    "password = \"enter password\""
   ]
  },
  {
   "cell_type": "code",
   "execution_count": 2,
   "id": "28253505-5534-4ec7-8f56-316b19c7e014",
   "metadata": {},
   "outputs": [],
   "source": [
    "# connecting to Vantage\n",
    "import teradataml as tdml\n",
    "eng = tdml.create_context(host = host, username=username, password = password)"
   ]
  },
  {
   "cell_type": "code",
   "execution_count": 3,
   "id": "110ce0f4-9174-4794-9805-be93a4150a19",
   "metadata": {},
   "outputs": [],
   "source": [
    "try:\n",
    "    import ucimlrepo\n",
    "except:\n",
    "    !pip install ucimlrepo\n",
    "    import ucimlrepo"
   ]
  },
  {
   "cell_type": "code",
   "execution_count": 4,
   "id": "335f088f-2e93-4a5b-be73-ad3357b73b84",
   "metadata": {},
   "outputs": [],
   "source": [
    "from ucimlrepo import fetch_ucirepo "
   ]
  },
  {
   "cell_type": "code",
   "execution_count": 5,
   "id": "641705fa-8ebe-472e-b70c-536ef88bd917",
   "metadata": {},
   "outputs": [],
   "source": [
    "# the census income dataset has got id 2, \n",
    "# see here for more info: https://archive.ics.uci.edu/dataset/2/adult\n",
    "adult = fetch_ucirepo(id=2)"
   ]
  },
  {
   "cell_type": "code",
   "execution_count": 6,
   "id": "75cf3060-07fe-4c8d-9104-af70eaf7089c",
   "metadata": {},
   "outputs": [],
   "source": [
    "# data (as pandas dataframes) \n",
    "df = adult.data.features \n",
    "df[\"income\"] = adult.data.targets.income.str.replace(\".\",\"\") # some cleaning needed.\n",
    "df.columns = [c.replace(\"-\",\"_\") for c in df.columns] \n",
    "df = df.reset_index().rename(columns={'index': 'row_id'})"
   ]
  },
  {
   "cell_type": "code",
   "execution_count": 7,
   "id": "efb7c10e-b655-469a-b9c9-828225e5a7c6",
   "metadata": {},
   "outputs": [],
   "source": [
    "# upload dataframe to Vantage\n",
    "tdml.copy_to_sql(df, \"census_income\", if_exists='replace', primary_index=\"row_id\")"
   ]
  },
  {
   "cell_type": "markdown",
   "id": "e7eab25e-87f2-4499-8497-c251dd424ea1",
   "metadata": {},
   "source": [
    "# Use Case 1: \"Hidden by Hash\""
   ]
  },
  {
   "cell_type": "markdown",
   "id": "fc1fc3e4-fbef-478e-8ca7-9c3a17c143a1",
   "metadata": {},
   "source": [
    "In exploring how hash functions benefit data science, we start with  **anonymizing categorical variables**. This technique is essential for protecting data privacy. By using hash functions, we transform sensitive details into anonymized forms. This protects personal and confidential information while allowing us to still carry out meaningful data analysis.\n",
    "\n",
    "Let's consider an example where we want to combine three categorical variables—relationship, race, and sex—into one anonymized variable using hash encryption. Here's the code:"
   ]
  },
  {
   "cell_type": "code",
   "execution_count": 8,
   "id": "c521e5ce-1ca8-4e77-8d38-c1267e391966",
   "metadata": {},
   "outputs": [],
   "source": [
    "DF = tdml.DataFrame(\"census_income\")"
   ]
  },
  {
   "cell_type": "code",
   "execution_count": 9,
   "id": "4bea3783-c8d0-4e21-a256-a1e455438457",
   "metadata": {},
   "outputs": [],
   "source": [
    "from sqlalchemy import func as f"
   ]
  },
  {
   "cell_type": "code",
   "execution_count": 10,
   "id": "051e9c3d-b3f6-4082-9602-d608f155c574",
   "metadata": {},
   "outputs": [],
   "source": [
    "DF_encrypted = (DF\n",
    "    .select([\"row_id\", \"relationship\", \"race\", \"sex\"])\n",
    "    .assign(demographic_encrypted = \n",
    "         f.abs(f.from_bytes(f.hashrow(\n",
    "                                 DF.relationship.expression, DF.race.expression, DF.sex.expression ), \n",
    "                            \"base10\" \n",
    "         ).cast(type_=tdml.INTEGER)\n",
    "              )))"
   ]
  },
  {
   "cell_type": "markdown",
   "id": "63517967-9836-4402-ae06-7be9f8c0a7bf",
   "metadata": {},
   "source": [
    "Let's dive into the code, breaking it down to understand each step:\n",
    "\n",
    "- `hashrow`: This function taps into the Teradata Vantage's built-in hashing capability, taking specified columns as input and returning a hexadecimal value. [Teradata Documentation on HASHROW](https://docs.teradata.com/r/Enterprise_IntelliFlex_VMware/SQL-Functions-Expressions-and-Predicates/Hash-Related-Functions/HASHROW)\n",
    "- `from_bytes`: With the `\"base10\"` argument, this function converts the hexadecimal value into a numeric float value. [Teradata Documentation on FROM_BYTES](https://docs.teradata.com/r/Enterprise_IntelliFlex_VMware/SQL-Data-Types-and-Literals/Data-Type-Conversion-Functions/FROM_BYTES)\n",
    "- `abs`: This function is used to eliminate any negative sign that might appear in the process. [Teradata Documentation on ABS](https://docs.teradata.com/r/Enterprise_IntelliFlex_VMware/SQL-Functions-Expressions-and-Predicates/Arithmetic-Trigonometric-Hyperbolic-Operators/Functions/ABS)\n",
    "- `cast`: This final step ensures the output is formatted as an `INTEGER`. [Teradata Documentation on Data Type Conversions](https://docs.teradata.com/r/Enterprise_IntelliFlex_VMware/SQL-Data-Types-and-Literals/Data-Type-Conversions)\n",
    "\n",
    "A handy tool in teradataml is the `show_query()` function. It can be attached to any DataFrame expression, allowing us to peek at the resulting SQL query. In our case, here's what it looks like:"
   ]
  },
  {
   "cell_type": "markdown",
   "id": "008c1d16-2699-4162-8dad-2c97e3157b95",
   "metadata": {},
   "source": [
    "If the hashing process avoids any collisions, it creates a consistent mapping. This means if a row has the same values across the three selected columns for hashing, the resulting hashed value will be the same as well. The key benefit here is that hashing obscures the original clear text values, which might often be sufficient for privacy purposes. However, it's worth noting that if someone is familiar with the original categories' (multivariate) distributions, they could attempt to backtrack to the original values.\n",
    "\n",
    "Moreover, should the model ever be exposed, it becomes ineffective without knowledge of the specific characteristics of the hash function used. This adds an extra layer of security, as the model's utility is closely tied to the unique properties of the hashing technique employed."
   ]
  },
  {
   "cell_type": "code",
   "execution_count": 11,
   "id": "5e26a3a3-042a-4ba6-a857-063376204677",
   "metadata": {},
   "outputs": [
    {
     "name": "stdout",
     "output_type": "stream",
     "text": [
      "select row_id AS row_id, relationship AS relationship, race AS race, sex AS sex, abs(CAST(from_bytes(hashrow(relationship, race, sex), 'base10') AS INTEGER)) AS demographic_encrypted from \"DEMO_USER\".\"ml__select__1723797671804863\"\n"
     ]
    }
   ],
   "source": [
    "print(DF_encrypted.show_query())"
   ]
  },
  {
   "cell_type": "code",
   "execution_count": 12,
   "id": "77408e21-2be4-44a7-89b4-f3ca28fcf7bb",
   "metadata": {},
   "outputs": [
    {
     "data": {
      "text/html": [
       "<style type=\"text/css\">\n",
       "\ttable {border:ridge 5px;}\n",
       "\ttable td {border:inset 1px;}\n",
       "\ttable tr#HeaderRow {background-color:grey; color:white;}</style>\n",
       "<html><table>\n",
       "\t<tr id=\"HeaderRow\">\n",
       "\t\t<th>row_id</th>\n",
       "\t\t<th>relationship</th>\n",
       "\t\t<th>race</th>\n",
       "\t\t<th>sex</th>\n",
       "\t\t<th>demographic_encrypted</th>\n",
       "\t</tr>\n",
       "\t<tr>\n",
       "\t\t<td>3018</td>\n",
       "\t\t<td>Own-child</td>\n",
       "\t\t<td>White</td>\n",
       "\t\t<td>Male</td>\n",
       "\t\t<td>1436029802</td>\n",
       "\t</tr>\n",
       "\t<tr>\n",
       "\t\t<td>48023</td>\n",
       "\t\t<td>Own-child</td>\n",
       "\t\t<td>White</td>\n",
       "\t\t<td>Male</td>\n",
       "\t\t<td>1436029802</td>\n",
       "\t</tr>\n",
       "\t<tr>\n",
       "\t\t<td>25755</td>\n",
       "\t\t<td>Own-child</td>\n",
       "\t\t<td>White</td>\n",
       "\t\t<td>Male</td>\n",
       "\t\t<td>1436029802</td>\n",
       "\t</tr>\n",
       "\t<tr>\n",
       "\t\t<td>19719</td>\n",
       "\t\t<td>Unmarried</td>\n",
       "\t\t<td>White</td>\n",
       "\t\t<td>Female</td>\n",
       "\t\t<td>972160569</td>\n",
       "\t</tr>\n",
       "\t<tr>\n",
       "\t\t<td>36889</td>\n",
       "\t\t<td>Unmarried</td>\n",
       "\t\t<td>White</td>\n",
       "\t\t<td>Female</td>\n",
       "\t\t<td>972160569</td>\n",
       "\t</tr>\n",
       "\t<tr>\n",
       "\t\t<td>33871</td>\n",
       "\t\t<td>Not-in-family</td>\n",
       "\t\t<td>White</td>\n",
       "\t\t<td>Female</td>\n",
       "\t\t<td>234852469</td>\n",
       "\t</tr>\n",
       "\t<tr>\n",
       "\t\t<td>8585</td>\n",
       "\t\t<td>Unmarried</td>\n",
       "\t\t<td>White</td>\n",
       "\t\t<td>Female</td>\n",
       "\t\t<td>972160569</td>\n",
       "\t</tr>\n",
       "\t<tr>\n",
       "\t\t<td>22737</td>\n",
       "\t\t<td>Husband</td>\n",
       "\t\t<td>White</td>\n",
       "\t\t<td>Male</td>\n",
       "\t\t<td>211103861</td>\n",
       "\t</tr>\n",
       "\t<tr>\n",
       "\t\t<td>39438</td>\n",
       "\t\t<td>Husband</td>\n",
       "\t\t<td>White</td>\n",
       "\t\t<td>Male</td>\n",
       "\t\t<td>211103861</td>\n",
       "\t</tr>\n",
       "\t<tr>\n",
       "\t\t<td>28304</td>\n",
       "\t\t<td>Husband</td>\n",
       "\t\t<td>White</td>\n",
       "\t\t<td>Male</td>\n",
       "\t\t<td>211103861</td>\n",
       "\t</tr>\n",
       "</table></html>"
      ],
      "text/plain": [
       "         relationship   race     sex demographic_encrypted\n",
       "row_id                                                    \n",
       "3018        Own-child  White    Male            1436029802\n",
       "48023       Own-child  White    Male            1436029802\n",
       "25755       Own-child  White    Male            1436029802\n",
       "19719       Unmarried  White  Female             972160569\n",
       "36889       Unmarried  White  Female             972160569\n",
       "33871   Not-in-family  White  Female             234852469\n",
       "8585        Unmarried  White  Female             972160569\n",
       "22737         Husband  White    Male             211103861\n",
       "39438         Husband  White    Male             211103861\n",
       "28304         Husband  White    Male             211103861"
      ]
     },
     "execution_count": 12,
     "metadata": {},
     "output_type": "execute_result"
    }
   ],
   "source": [
    "DF_encrypted"
   ]
  },
  {
   "cell_type": "markdown",
   "id": "f1960ad6-e88a-4f04-9a0c-aded90daa053",
   "metadata": {},
   "source": [
    "# Use Case 2: \"Precision in Partition\" "
   ]
  },
  {
   "cell_type": "markdown",
   "id": "0e1f712f-e741-4f28-8568-a0787d82283e",
   "metadata": {},
   "source": [
    "As we move to our second exploration of hash functions in data science, we turn our attention to effectively dividing datasets into **training, validation, and test sets**. By applying a hash function to a unique primary key for this division, we achieve not only incredible efficiency but also a level of reproducibility and consistency that enhances data analysis projects. This technique smoothly generates distinct subsets of data. Thanks to the predictable behavior of hash functions, we can ensure that each piece of data consistently finds its way into the same subset, allowing for accurate comparisons and solid evaluations of model performance. Here's the breakdown:\n",
    "\n",
    "1. **Hashing Identifiers**: Start by calculating a hash value for each record's unique identifier. This could be a singular ID, a mix of different fields, or any attribute that uniquely defines a record.\n",
    "\n",
    "2. **Determining the Split**: Transform the hash value into a numerical range (for instance, by applying modulo 6 to the hash value). Then, assign the record to the training, evaluation, or test set based on its range. For instance:\n",
    "   - Assign records with a value of 0 to the test set (making up 16.7%).\n",
    "   - Assign records with a value of 1 to the validation set (also 16.7%).\n",
    "   - Assign records with values from 2 to 5 to the training set (comprising 66.7%).\n",
    "\n",
    "Now, applying this to the census dataset:\n",
    "\n",
    "1. **Hashing Identifiers**: We're in luck here; `row_id` serves as our primary key.\n",
    "2. **Determining the Split**: We'll allocate two-thirds of our data to training and one-sixth to both validation and testing. This involves taking the modulo 6 of our integer hash value to ensure even distribution.\n",
    "\n",
    "Let's see how swiftly we can put this into action, opting for SQL this time for a bit of variety."
   ]
  },
  {
   "cell_type": "code",
   "execution_count": 13,
   "id": "ed1f8013-fb75-4028-856b-fa249c83d06b",
   "metadata": {},
   "outputs": [],
   "source": [
    "DF_fold = tdml.DataFrame.from_query(\n",
    "\"\"\"\n",
    "SELECT\n",
    "    -- create 6 equally sized buckets\n",
    "    MOD(\n",
    "        ABS(CAST(from_bytes(hashrow(row_id), 'base10') AS INTEGER)), \n",
    "        6) as rowid_hashbin,\n",
    "    -- assign to folds as per requirement\n",
    "    CASE rowid_hashbin \n",
    "        WHEN 0 THEN 'test' \n",
    "        WHEN 1 THEN 'evaluate' \n",
    "        ELSE 'train'\n",
    "    END as fold,\n",
    "    t.*\n",
    "FROM\n",
    "     census_income t\n",
    "\"\"\")"
   ]
  },
  {
   "cell_type": "code",
   "execution_count": 14,
   "id": "e6c85b6a-e973-40c2-88df-81bb2eaa03b2",
   "metadata": {},
   "outputs": [
    {
     "data": {
      "text/html": [
       "<style type=\"text/css\">\n",
       "\ttable {border:ridge 5px;}\n",
       "\ttable td {border:inset 1px;}\n",
       "\ttable tr#HeaderRow {background-color:grey; color:white;}</style>\n",
       "<html><table>\n",
       "\t<tr id=\"HeaderRow\">\n",
       "\t\t<th>rowid_hashbin</th>\n",
       "\t\t<th>fold</th>\n",
       "\t\t<th>row_id</th>\n",
       "\t\t<th>age</th>\n",
       "\t\t<th>workclass</th>\n",
       "\t\t<th>fnlwgt</th>\n",
       "\t\t<th>education</th>\n",
       "\t\t<th>education_num</th>\n",
       "\t\t<th>marital_status</th>\n",
       "\t\t<th>occupation</th>\n",
       "\t\t<th>relationship</th>\n",
       "\t\t<th>race</th>\n",
       "\t\t<th>sex</th>\n",
       "\t\t<th>capital_gain</th>\n",
       "\t\t<th>capital_loss</th>\n",
       "\t\t<th>hours_per_week</th>\n",
       "\t\t<th>native_country</th>\n",
       "\t\t<th>income</th>\n",
       "\t</tr>\n",
       "\t<tr>\n",
       "\t\t<td>1</td>\n",
       "\t\t<td>evaluate</td>\n",
       "\t\t<td>36889</td>\n",
       "\t\t<td>55</td>\n",
       "\t\t<td>Private</td>\n",
       "\t\t<td>269763</td>\n",
       "\t\t<td>Some-college</td>\n",
       "\t\t<td>10</td>\n",
       "\t\t<td>Divorced</td>\n",
       "\t\t<td>Other-service</td>\n",
       "\t\t<td>Unmarried</td>\n",
       "\t\t<td>White</td>\n",
       "\t\t<td>Female</td>\n",
       "\t\t<td>0</td>\n",
       "\t\t<td>0</td>\n",
       "\t\t<td>10</td>\n",
       "\t\t<td>United-States</td>\n",
       "\t\t<td><=50K</td>\n",
       "\t</tr>\n",
       "\t<tr>\n",
       "\t\t<td>1</td>\n",
       "\t\t<td>evaluate</td>\n",
       "\t\t<td>8585</td>\n",
       "\t\t<td>38</td>\n",
       "\t\t<td>Private</td>\n",
       "\t\t<td>168407</td>\n",
       "\t\t<td>Some-college</td>\n",
       "\t\t<td>10</td>\n",
       "\t\t<td>Divorced</td>\n",
       "\t\t<td>Adm-clerical</td>\n",
       "\t\t<td>Unmarried</td>\n",
       "\t\t<td>White</td>\n",
       "\t\t<td>Female</td>\n",
       "\t\t<td>5721</td>\n",
       "\t\t<td>0</td>\n",
       "\t\t<td>44</td>\n",
       "\t\t<td>United-States</td>\n",
       "\t\t<td><=50K</td>\n",
       "\t</tr>\n",
       "\t<tr>\n",
       "\t\t<td>0</td>\n",
       "\t\t<td>test</td>\n",
       "\t\t<td>22737</td>\n",
       "\t\t<td>30</td>\n",
       "\t\t<td>Private</td>\n",
       "\t\t<td>218551</td>\n",
       "\t\t<td>Assoc-voc</td>\n",
       "\t\t<td>11</td>\n",
       "\t\t<td>Married-civ-spouse</td>\n",
       "\t\t<td>Sales</td>\n",
       "\t\t<td>Husband</td>\n",
       "\t\t<td>White</td>\n",
       "\t\t<td>Male</td>\n",
       "\t\t<td>0</td>\n",
       "\t\t<td>0</td>\n",
       "\t\t<td>45</td>\n",
       "\t\t<td>United-States</td>\n",
       "\t\t<td>>50K</td>\n",
       "\t</tr>\n",
       "\t<tr>\n",
       "\t\t<td>0</td>\n",
       "\t\t<td>test</td>\n",
       "\t\t<td>0</td>\n",
       "\t\t<td>39</td>\n",
       "\t\t<td>State-gov</td>\n",
       "\t\t<td>77516</td>\n",
       "\t\t<td>Bachelors</td>\n",
       "\t\t<td>13</td>\n",
       "\t\t<td>Never-married</td>\n",
       "\t\t<td>Adm-clerical</td>\n",
       "\t\t<td>Not-in-family</td>\n",
       "\t\t<td>White</td>\n",
       "\t\t<td>Male</td>\n",
       "\t\t<td>2174</td>\n",
       "\t\t<td>0</td>\n",
       "\t\t<td>40</td>\n",
       "\t\t<td>United-States</td>\n",
       "\t\t<td><=50K</td>\n",
       "\t</tr>\n",
       "\t<tr>\n",
       "\t\t<td>5</td>\n",
       "\t\t<td>train</td>\n",
       "\t\t<td>3018</td>\n",
       "\t\t<td>21</td>\n",
       "\t\t<td>Private</td>\n",
       "\t\t<td>231866</td>\n",
       "\t\t<td>HS-grad</td>\n",
       "\t\t<td>9</td>\n",
       "\t\t<td>Never-married</td>\n",
       "\t\t<td>Farming-fishing</td>\n",
       "\t\t<td>Own-child</td>\n",
       "\t\t<td>White</td>\n",
       "\t\t<td>Male</td>\n",
       "\t\t<td>0</td>\n",
       "\t\t<td>0</td>\n",
       "\t\t<td>65</td>\n",
       "\t\t<td>United-States</td>\n",
       "\t\t<td><=50K</td>\n",
       "\t</tr>\n",
       "\t<tr>\n",
       "\t\t<td>2</td>\n",
       "\t\t<td>train</td>\n",
       "\t\t<td>28304</td>\n",
       "\t\t<td>49</td>\n",
       "\t\t<td>Private</td>\n",
       "\t\t<td>315984</td>\n",
       "\t\t<td>HS-grad</td>\n",
       "\t\t<td>9</td>\n",
       "\t\t<td>Married-civ-spouse</td>\n",
       "\t\t<td>Machine-op-inspct</td>\n",
       "\t\t<td>Husband</td>\n",
       "\t\t<td>White</td>\n",
       "\t\t<td>Male</td>\n",
       "\t\t<td>0</td>\n",
       "\t\t<td>0</td>\n",
       "\t\t<td>40</td>\n",
       "\t\t<td>United-States</td>\n",
       "\t\t<td><=50K</td>\n",
       "\t</tr>\n",
       "\t<tr>\n",
       "\t\t<td>3</td>\n",
       "\t\t<td>train</td>\n",
       "\t\t<td>48023</td>\n",
       "\t\t<td>19</td>\n",
       "\t\t<td>Private</td>\n",
       "\t\t<td>142037</td>\n",
       "\t\t<td>11th</td>\n",
       "\t\t<td>7</td>\n",
       "\t\t<td>Never-married</td>\n",
       "\t\t<td>Handlers-cleaners</td>\n",
       "\t\t<td>Own-child</td>\n",
       "\t\t<td>White</td>\n",
       "\t\t<td>Male</td>\n",
       "\t\t<td>0</td>\n",
       "\t\t<td>0</td>\n",
       "\t\t<td>30</td>\n",
       "\t\t<td>United-States</td>\n",
       "\t\t<td><=50K</td>\n",
       "\t</tr>\n",
       "\t<tr>\n",
       "\t\t<td>5</td>\n",
       "\t\t<td>train</td>\n",
       "\t\t<td>25755</td>\n",
       "\t\t<td>17</td>\n",
       "\t\t<td>?</td>\n",
       "\t\t<td>47407</td>\n",
       "\t\t<td>11th</td>\n",
       "\t\t<td>7</td>\n",
       "\t\t<td>Never-married</td>\n",
       "\t\t<td>?</td>\n",
       "\t\t<td>Own-child</td>\n",
       "\t\t<td>White</td>\n",
       "\t\t<td>Male</td>\n",
       "\t\t<td>0</td>\n",
       "\t\t<td>0</td>\n",
       "\t\t<td>10</td>\n",
       "\t\t<td>United-States</td>\n",
       "\t\t<td><=50K</td>\n",
       "\t</tr>\n",
       "\t<tr>\n",
       "\t\t<td>1</td>\n",
       "\t\t<td>evaluate</td>\n",
       "\t\t<td>14152</td>\n",
       "\t\t<td>37</td>\n",
       "\t\t<td>Private</td>\n",
       "\t\t<td>234901</td>\n",
       "\t\t<td>Some-college</td>\n",
       "\t\t<td>10</td>\n",
       "\t\t<td>Married-civ-spouse</td>\n",
       "\t\t<td>Sales</td>\n",
       "\t\t<td>Husband</td>\n",
       "\t\t<td>White</td>\n",
       "\t\t<td>Male</td>\n",
       "\t\t<td>0</td>\n",
       "\t\t<td>0</td>\n",
       "\t\t<td>50</td>\n",
       "\t\t<td>Germany</td>\n",
       "\t\t<td>>50K</td>\n",
       "\t</tr>\n",
       "\t<tr>\n",
       "\t\t<td>2</td>\n",
       "\t\t<td>train</td>\n",
       "\t\t<td>33871</td>\n",
       "\t\t<td>58</td>\n",
       "\t\t<td>Local-gov</td>\n",
       "\t\t<td>158357</td>\n",
       "\t\t<td>Bachelors</td>\n",
       "\t\t<td>13</td>\n",
       "\t\t<td>Divorced</td>\n",
       "\t\t<td>Prof-specialty</td>\n",
       "\t\t<td>Not-in-family</td>\n",
       "\t\t<td>White</td>\n",
       "\t\t<td>Female</td>\n",
       "\t\t<td>0</td>\n",
       "\t\t<td>0</td>\n",
       "\t\t<td>40</td>\n",
       "\t\t<td>United-States</td>\n",
       "\t\t<td><=50K</td>\n",
       "\t</tr>\n",
       "</table></html>"
      ],
      "text/plain": [
       "   rowid_hashbin      fold  row_id  age  workclass  fnlwgt     education  education_num      marital_status         occupation   relationship   race     sex  capital_gain  capital_loss  hours_per_week native_country income\n",
       "0              1  evaluate   36889   55    Private  269763  Some-college             10            Divorced      Other-service      Unmarried  White  Female             0             0              10  United-States  <=50K\n",
       "1              1  evaluate    8585   38    Private  168407  Some-college             10            Divorced       Adm-clerical      Unmarried  White  Female          5721             0              44  United-States  <=50K\n",
       "2              0      test   22737   30    Private  218551     Assoc-voc             11  Married-civ-spouse              Sales        Husband  White    Male             0             0              45  United-States   >50K\n",
       "3              0      test       0   39  State-gov   77516     Bachelors             13       Never-married       Adm-clerical  Not-in-family  White    Male          2174             0              40  United-States  <=50K\n",
       "4              5     train    3018   21    Private  231866       HS-grad              9       Never-married    Farming-fishing      Own-child  White    Male             0             0              65  United-States  <=50K\n",
       "5              2     train   28304   49    Private  315984       HS-grad              9  Married-civ-spouse  Machine-op-inspct        Husband  White    Male             0             0              40  United-States  <=50K\n",
       "6              3     train   48023   19    Private  142037          11th              7       Never-married  Handlers-cleaners      Own-child  White    Male             0             0              30  United-States  <=50K\n",
       "7              5     train   25755   17          ?   47407          11th              7       Never-married                  ?      Own-child  White    Male             0             0              10  United-States  <=50K\n",
       "8              1  evaluate   14152   37    Private  234901  Some-college             10  Married-civ-spouse              Sales        Husband  White    Male             0             0              50        Germany   >50K\n",
       "9              2     train   33871   58  Local-gov  158357     Bachelors             13            Divorced     Prof-specialty  Not-in-family  White  Female             0             0              40  United-States  <=50K"
      ]
     },
     "execution_count": 14,
     "metadata": {},
     "output_type": "execute_result"
    }
   ],
   "source": [
    "DF_fold"
   ]
  },
  {
   "cell_type": "markdown",
   "id": "3e1e6161-33c5-48c4-809e-27f361e33ef7",
   "metadata": {},
   "source": [
    "Let's check to make sure our data splits are fair, meaning they don't have uneven distributions of the target labels. This step highlights the flexibility of teradataml, which seamlessly blends SQL and pandas-style syntax for an intuitive workflow. Given that our aggregated DataFrame has just 6 rows, we'll move it over to pandas for  visualization. This allows us to take a closer look and ensure our model training is based on balanced and unbiased data."
   ]
  },
  {
   "cell_type": "code",
   "execution_count": 15,
   "id": "5484adaf-0ded-46c5-b635-84b617472a5e",
   "metadata": {},
   "outputs": [],
   "source": [
    "DF_fold_counts = DF_fold.select([\"fold\",\"income\",\"row_id\"]).groupby([\"fold\",\"income\"]).count()"
   ]
  },
  {
   "cell_type": "code",
   "execution_count": 16,
   "id": "4e6e4fd2-aa21-436f-8a42-a42021961c70",
   "metadata": {},
   "outputs": [],
   "source": [
    "pddf_fold_counts_pd = DF_fold_counts.to_pandas()"
   ]
  },
  {
   "cell_type": "code",
   "execution_count": 17,
   "id": "3e8e2052-e53c-4b3e-947a-6d13086b426b",
   "metadata": {},
   "outputs": [
    {
     "data": {
      "image/png": "[encoded data removed]",
      "text/plain": [
       "<Figure size 720x432 with 1 Axes>"
      ]
     },
     "metadata": {
      "needs_background": "light"
     },
     "output_type": "display_data"
    }
   ],
   "source": [
    "import matplotlib.pyplot as plt\n",
    "pivot_df = pddf_fold_counts_pd.pivot(index='fold', columns='income', values='count_row_id').fillna(0)\n",
    "ax = pivot_df.plot(kind='bar', stacked=True, figsize=(10, 6))\n",
    "for bar in ax.patches:\n",
    "    x = bar.get_x() + bar.get_width() / 2\n",
    "    y = bar.get_height()/2 + bar.get_y()\n",
    "    value = int(bar.get_height())\n",
    "    ax.text(x, y, str(value), ha='center', )#va='bottom')\n",
    "\n",
    "plt.title('Distribution of Income Groups by Fold')\n",
    "plt.xlabel('Fold')\n",
    "plt.ylabel('Number of Rows')\n",
    "plt.xticks(rotation=45)\n",
    "plt.legend(title='Income')\n",
    "plt.tight_layout()\n",
    "plt.show()"
   ]
  },
  {
   "cell_type": "markdown",
   "id": "0adb0d4d-d39d-4786-b27e-e6c78ceb6447",
   "metadata": {},
   "source": [
    "This looks great! The chart displayed paints a clear picture of our data split, confirming that we've met our goals for both the size of the splits and the evenness of the distribution. It shows the three subsets—train, test, and evaluate—each with a proportional mix of income categories, both <=50K and >50K. The 'train' fold is the largest, as intended, with the 'test' and 'evaluate' folds being smaller yet similar in size to each other. The balance across these folds suggests that our hash function has done its job well, assigning data points to each subset in a way that mirrors the overall composition of our dataset. "
   ]
  },
  {
   "cell_type": "markdown",
   "id": "e1b0b767-08b0-463c-9952-dd21e93a58ad",
   "metadata": {},
   "source": [
    "# Use Case 3: \"Italy, Peru and Portugal unified through hashing\" \n"
   ]
  },
  {
   "cell_type": "markdown",
   "id": "ca6e50e6-4655-4bb0-9551-a0d90876dbe1",
   "metadata": {},
   "source": [
    "In our journey through the practical uses of hash functions in data science, let's look at a challenge that often comes up with categorical data, like the `native_country` column in the census income dataset. This column has 43 different countries, and sometimes new ones appear that weren't seen during the model's training phase.\n",
    "\n",
    "Other common methods for dealing with categories, like label encoding and one-hot encoding, have some drawbacks. Label encoding requires a fixed-size lookup-table. One-hot encoding creates a new column for each category, which can make our dataset much bigger and harder to work with, especially when new categories show up.\n",
    "\n",
    "Hashing provides a clever way around these issues. It lets us **put many categories into a smaller number of groups**, even if that means some different categories end up in the same group. This is okay because it keeps our dataset manageable and our models flexible, able to handle new categories without needing a complete overhaul. For example, countries like Italy, Peru, and Portugal might all end up in the same group, but this simplicity helps us keep our model running fast and smoothly. Let's see how using hashing this way can make our models more straightforward and ready for whatever new data comes their way."
   ]
  },
  {
   "cell_type": "markdown",
   "id": "74578ed1-8038-44d3-941e-051c8787a1e2",
   "metadata": {},
   "source": [
    "Our census income dataset contains some categorical variables, and the one that stands out as a candidate for feature is the native_country column. Currently there 43 distinct countries. In future during model deployment, there could be countries not seen during training, and the worst thing would be that our algorithm fails. \n",
    "\n",
    "For a start, we accept colissions, and we would like to only use 10 buckets derived from hashing, leading to 4.3 countries per bucket on average\n"
   ]
  },
  {
   "cell_type": "markdown",
   "id": "b0589820-5aad-4336-85bc-4c93a3b5367d",
   "metadata": {},
   "source": [
    "In practical situations, you'll likely need to apply hash-encoding to more than just a single variable. So, the next step is to craft code that can handle this efficiently. We've learned that to achieve our transformation, we need to link together several functions. Fortunately, we can embody the spirit of good software practice—specifically, the DRY principle (Don't Repeat Yourself)—by designing a function that generates these derived columns for us."
   ]
  },
  {
   "cell_type": "code",
   "execution_count": 18,
   "id": "26eb4c8e-7adb-43bb-aebc-f95ded43f69d",
   "metadata": {},
   "outputs": [],
   "source": [
    "def get_feature_hashbucket(thisDF, column_name, num_buckets=10):\n",
    "    return f.abs(f.from_bytes(f.hashrow(thisDF[column_name].expression), \"base10\" \n",
    "                             ).cast(type_=tdml.INTEGER)) % num_buckets"
   ]
  },
  {
   "cell_type": "code",
   "execution_count": 19,
   "id": "d915ff85-f8e1-4acd-89bd-131aa454ec29",
   "metadata": {},
   "outputs": [],
   "source": [
    "columns_to_encode = [\"relationship\", \"race\", \"sex\", \"native_country\"]\n",
    "my_kwargs = {(f\"{colname}_encoded\"):get_feature_hashbucket(DF,colname,10)\n",
    "                for colname in columns_to_encode}\n",
    "\n",
    "DF_hashbin = (DF\n",
    "    .select([\"row_id\"]+ columns_to_encode)\n",
    "    .assign(**my_kwargs))"
   ]
  },
  {
   "cell_type": "code",
   "execution_count": 20,
   "id": "10e3d01b-3bbe-4e73-98c2-4338a00c009f",
   "metadata": {},
   "outputs": [
    {
     "data": {
      "text/html": [
       "<style type=\"text/css\">\n",
       "\ttable {border:ridge 5px;}\n",
       "\ttable td {border:inset 1px;}\n",
       "\ttable tr#HeaderRow {background-color:grey; color:white;}</style>\n",
       "<html><table>\n",
       "\t<tr id=\"HeaderRow\">\n",
       "\t\t<th>row_id</th>\n",
       "\t\t<th>relationship</th>\n",
       "\t\t<th>race</th>\n",
       "\t\t<th>sex</th>\n",
       "\t\t<th>native_country</th>\n",
       "\t\t<th>native_country_encoded</th>\n",
       "\t\t<th>race_encoded</th>\n",
       "\t\t<th>relationship_encoded</th>\n",
       "\t\t<th>sex_encoded</th>\n",
       "\t</tr>\n",
       "\t<tr>\n",
       "\t\t<td>25755</td>\n",
       "\t\t<td>Own-child</td>\n",
       "\t\t<td>White</td>\n",
       "\t\t<td>Male</td>\n",
       "\t\t<td>United-States</td>\n",
       "\t\t<td>1</td>\n",
       "\t\t<td>7</td>\n",
       "\t\t<td>7</td>\n",
       "\t\t<td>9</td>\n",
       "\t</tr>\n",
       "\t<tr>\n",
       "\t\t<td>39438</td>\n",
       "\t\t<td>Husband</td>\n",
       "\t\t<td>White</td>\n",
       "\t\t<td>Male</td>\n",
       "\t\t<td>United-States</td>\n",
       "\t\t<td>1</td>\n",
       "\t\t<td>7</td>\n",
       "\t\t<td>2</td>\n",
       "\t\t<td>9</td>\n",
       "\t</tr>\n",
       "\t<tr>\n",
       "\t\t<td>36889</td>\n",
       "\t\t<td>Unmarried</td>\n",
       "\t\t<td>White</td>\n",
       "\t\t<td>Female</td>\n",
       "\t\t<td>United-States</td>\n",
       "\t\t<td>1</td>\n",
       "\t\t<td>7</td>\n",
       "\t\t<td>0</td>\n",
       "\t\t<td>0</td>\n",
       "\t</tr>\n",
       "\t<tr>\n",
       "\t\t<td>0</td>\n",
       "\t\t<td>Not-in-family</td>\n",
       "\t\t<td>White</td>\n",
       "\t\t<td>Male</td>\n",
       "\t\t<td>United-States</td>\n",
       "\t\t<td>1</td>\n",
       "\t\t<td>7</td>\n",
       "\t\t<td>2</td>\n",
       "\t\t<td>9</td>\n",
       "\t</tr>\n",
       "\t<tr>\n",
       "\t\t<td>3018</td>\n",
       "\t\t<td>Own-child</td>\n",
       "\t\t<td>White</td>\n",
       "\t\t<td>Male</td>\n",
       "\t\t<td>United-States</td>\n",
       "\t\t<td>1</td>\n",
       "\t\t<td>7</td>\n",
       "\t\t<td>7</td>\n",
       "\t\t<td>9</td>\n",
       "\t</tr>\n",
       "\t<tr>\n",
       "\t\t<td>33871</td>\n",
       "\t\t<td>Not-in-family</td>\n",
       "\t\t<td>White</td>\n",
       "\t\t<td>Female</td>\n",
       "\t\t<td>United-States</td>\n",
       "\t\t<td>1</td>\n",
       "\t\t<td>7</td>\n",
       "\t\t<td>2</td>\n",
       "\t\t<td>0</td>\n",
       "\t</tr>\n",
       "\t<tr>\n",
       "\t\t<td>8585</td>\n",
       "\t\t<td>Unmarried</td>\n",
       "\t\t<td>White</td>\n",
       "\t\t<td>Female</td>\n",
       "\t\t<td>United-States</td>\n",
       "\t\t<td>1</td>\n",
       "\t\t<td>7</td>\n",
       "\t\t<td>0</td>\n",
       "\t\t<td>0</td>\n",
       "\t</tr>\n",
       "\t<tr>\n",
       "\t\t<td>22737</td>\n",
       "\t\t<td>Husband</td>\n",
       "\t\t<td>White</td>\n",
       "\t\t<td>Male</td>\n",
       "\t\t<td>United-States</td>\n",
       "\t\t<td>1</td>\n",
       "\t\t<td>7</td>\n",
       "\t\t<td>2</td>\n",
       "\t\t<td>9</td>\n",
       "\t</tr>\n",
       "\t<tr>\n",
       "\t\t<td>14152</td>\n",
       "\t\t<td>Husband</td>\n",
       "\t\t<td>White</td>\n",
       "\t\t<td>Male</td>\n",
       "\t\t<td>Germany</td>\n",
       "\t\t<td>9</td>\n",
       "\t\t<td>7</td>\n",
       "\t\t<td>2</td>\n",
       "\t\t<td>9</td>\n",
       "\t</tr>\n",
       "\t<tr>\n",
       "\t\t<td>19719</td>\n",
       "\t\t<td>Unmarried</td>\n",
       "\t\t<td>White</td>\n",
       "\t\t<td>Female</td>\n",
       "\t\t<td>United-States</td>\n",
       "\t\t<td>1</td>\n",
       "\t\t<td>7</td>\n",
       "\t\t<td>0</td>\n",
       "\t\t<td>0</td>\n",
       "\t</tr>\n",
       "</table></html>"
      ],
      "text/plain": [
       "         relationship   race     sex native_country native_country_encoded race_encoded relationship_encoded sex_encoded\n",
       "row_id                                                                                                                  \n",
       "25755       Own-child  White    Male  United-States                      1            7                    7           9\n",
       "39438         Husband  White    Male  United-States                      1            7                    2           9\n",
       "36889       Unmarried  White  Female  United-States                      1            7                    0           0\n",
       "0       Not-in-family  White    Male  United-States                      1            7                    2           9\n",
       "3018        Own-child  White    Male  United-States                      1            7                    7           9\n",
       "33871   Not-in-family  White  Female  United-States                      1            7                    2           0\n",
       "8585        Unmarried  White  Female  United-States                      1            7                    0           0\n",
       "22737         Husband  White    Male  United-States                      1            7                    2           9\n",
       "14152         Husband  White    Male        Germany                      9            7                    2           9\n",
       "19719       Unmarried  White  Female  United-States                      1            7                    0           0"
      ]
     },
     "execution_count": 20,
     "metadata": {},
     "output_type": "execute_result"
    }
   ],
   "source": [
    "DF_hashbin"
   ]
  },
  {
   "cell_type": "code",
   "execution_count": 21,
   "id": "b56e255e-8447-468f-b261-a01476d482a4",
   "metadata": {},
   "outputs": [
    {
     "name": "stdout",
     "output_type": "stream",
     "text": [
      "select row_id AS row_id, relationship AS relationship, race AS race, sex AS sex, native_country AS native_country, abs(CAST(from_bytes(hashrow(native_country), 'base10') AS INTEGER)) MOD 10 AS native_country_encoded, abs(CAST(from_bytes(hashrow(race), 'base10') AS INTEGER)) MOD 10 AS race_encoded, abs(CAST(from_bytes(hashrow(relationship), 'base10') AS INTEGER)) MOD 10 AS relationship_encoded, abs(CAST(from_bytes(hashrow(sex), 'base10') AS INTEGER)) MOD 10 AS sex_encoded from \"DEMO_USER\".\"ml__select__1723794446840016\"\n"
     ]
    }
   ],
   "source": [
    "print(DF_hashbin.show_query())"
   ]
  },
  {
   "cell_type": "markdown",
   "id": "1f5e3396-bbb1-4c5a-b23e-a21424dcfb3c",
   "metadata": {},
   "source": [
    "It looks like our method is taking shape—the initial results are in, and they're promising! The sample output doesn't reveal any collisions, but that might be due to certain values being more prevalent than others. To get a clearer view, we'll need to aggregate the table. "
   ]
  },
  {
   "cell_type": "code",
   "execution_count": 22,
   "id": "61ea0415-2e97-41e2-a4ca-02de62db7e77",
   "metadata": {},
   "outputs": [],
   "source": [
    "DF_collisions = tdml.DataFrame.from_query(\n",
    "\"\"\"\n",
    "SELECT\n",
    "    native_country_hashbin,\n",
    "    COUNT ( native_country) no_countries_bin,\n",
    "    TRIM(TRAILING ' ' FROM (XMLAGG(TRIM(native_country)|| ','\n",
    "                           ORDER BY native_country) (VARCHAR(1000)))) as countries_list \n",
    "FROM (\n",
    "    SELECT \n",
    "        DISTINCT (native_country),\n",
    "        MOD(ABS(CAST(from_bytes(hashrow(native_country), 'base10') AS INTEGER)),10) as native_country_hashbin\n",
    "    FROM\n",
    "        census_income t\n",
    ") t\n",
    "GROUP BY native_country_hashbin\n",
    "\"\"\")     "
   ]
  },
  {
   "cell_type": "code",
   "execution_count": 23,
   "id": "ab69b07a-1a23-472a-a43f-a9f6404ec457",
   "metadata": {},
   "outputs": [
    {
     "data": {
      "text/html": [
       "<style type=\"text/css\">\n",
       "\ttable {border:ridge 5px;}\n",
       "\ttable td {border:inset 1px;}\n",
       "\ttable tr#HeaderRow {background-color:grey; color:white;}</style>\n",
       "<html><table>\n",
       "\t<tr id=\"HeaderRow\">\n",
       "\t\t<th>native_country_hashbin</th>\n",
       "\t\t<th>no_countries_bin</th>\n",
       "\t\t<th>countries_list</th>\n",
       "\t</tr>\n",
       "\t<tr>\n",
       "\t\t<td>0</td>\n",
       "\t\t<td>0</td>\n",
       "\t\t<td>None</td>\n",
       "\t</tr>\n",
       "\t<tr>\n",
       "\t\t<td>1</td>\n",
       "\t\t<td>7</td>\n",
       "\t\t<td>Canada, England, France, Ireland, Puerto-Rico, Taiwan, United-States,</td>\n",
       "\t</tr>\n",
       "\t<tr>\n",
       "\t\t<td>2</td>\n",
       "\t\t<td>5</td>\n",
       "\t\t<td>Ecuador, Honduras, Italy, Peru, Portugal,</td>\n",
       "\t</tr>\n",
       "\t<tr>\n",
       "\t\t<td>3</td>\n",
       "\t\t<td>2</td>\n",
       "\t\t<td>Cambodia, China,</td>\n",
       "\t</tr>\n",
       "\t<tr>\n",
       "\t\t<td>4</td>\n",
       "\t\t<td>7</td>\n",
       "\t\t<td>Columbia, El-Salvador, Greece, Guatemala, Hungary, Iran, Outlying-US(Guam-USVI-etc),</td>\n",
       "\t</tr>\n",
       "\t<tr>\n",
       "\t\t<td>5</td>\n",
       "\t\t<td>4</td>\n",
       "\t\t<td>?, India, Japan, Laos,</td>\n",
       "\t</tr>\n",
       "\t<tr>\n",
       "\t\t<td>6</td>\n",
       "\t\t<td>4</td>\n",
       "\t\t<td>Haiti, Holand-Netherlands, Hong, Jamaica,</td>\n",
       "\t</tr>\n",
       "\t<tr>\n",
       "\t\t<td>7</td>\n",
       "\t\t<td>6</td>\n",
       "\t\t<td>Cuba, Mexico, Philippines, Poland, South, Thailand,</td>\n",
       "\t</tr>\n",
       "\t<tr>\n",
       "\t\t<td>8</td>\n",
       "\t\t<td>3</td>\n",
       "\t\t<td>Dominican-Republic, Trinadad&Tobago, Vietnam,</td>\n",
       "\t</tr>\n",
       "\t<tr>\n",
       "\t\t<td>9</td>\n",
       "\t\t<td>4</td>\n",
       "\t\t<td>Germany, Nicaragua, Scotland, Yugoslavia,</td>\n",
       "\t</tr>\n",
       "</table></html>"
      ],
      "text/plain": [
       "   native_country_hashbin  no_countries_bin                                                                        countries_list\n",
       "0                       0                 0                                                                                  None\n",
       "1                       1                 7                 Canada, England, France, Ireland, Puerto-Rico, Taiwan, United-States,\n",
       "2                       2                 5                                             Ecuador, Honduras, Italy, Peru, Portugal,\n",
       "3                       3                 2                                                                      Cambodia, China,\n",
       "4                       4                 7  Columbia, El-Salvador, Greece, Guatemala, Hungary, Iran, Outlying-US(Guam-USVI-etc),\n",
       "5                       5                 4                                                                ?, India, Japan, Laos,\n",
       "6                       6                 4                                             Haiti, Holand-Netherlands, Hong, Jamaica,\n",
       "7                       7                 6                                   Cuba, Mexico, Philippines, Poland, South, Thailand,\n",
       "8                       8                 3                                         Dominican-Republic, Trinadad&Tobago, Vietnam,\n",
       "9                       9                 4                                             Germany, Nicaragua, Scotland, Yugoslavia,"
      ]
     },
     "execution_count": 23,
     "metadata": {},
     "output_type": "execute_result"
    }
   ],
   "source": [
    "DF_collisions.sort(\"native_country_hashbin\")"
   ]
  },
  {
   "cell_type": "markdown",
   "id": "74dc87d4-6305-4abf-921a-42009a50dcb7",
   "metadata": {},
   "source": [
    "We've run into collisions, which isn't surprising. As we saw, Italy, Peru, and Portugal all share hashbucket number 2. Before we pivot to our next use case, let's address a significant point: the choice of how many hash buckets to use.\n",
    "\n",
    "If you're working with a modest number of bins and categories, you'll probably want to examine any collisions to decide if they're acceptable. If they're not, consider increasing your bucket count. Whether this extra step is worth it depends on how much it could speed up data preparation against your specific use case needs.\n",
    "\n",
    "Think of the number of hash buckets for each feature as a dial you can turn in your data science process—it's essentially a hyperparameter you can tune!\n",
    "\n",
    "When it comes to best practices for setting the size of hash buckets, it's all about the context and balancing act between performance and computational demands. More buckets mean fewer collisions but a larger feature space, which can bump up memory and processing requirements. On the flip side, a hash space that's too snug could lead to collisions that mask important details. A good rule of thumb is to begin with a hash space around ten times the size of the number of unique values you expect in your variable. From there, you can tweak as needed, based on real-world results and the computational power at your disposal. The sweet spot for hash bucket size is where you minimize information loss from collisions without unnecessary growth in dimensionality."
   ]
  },
  {
   "cell_type": "markdown",
   "id": "6d8e0fec-cd16-49d5-8f1a-60b2db947416",
   "metadata": {},
   "source": [
    "# Use Case 4: \"Serving faster with Matcha Green Tea Salt\" "
   ]
  },
  {
   "cell_type": "markdown",
   "id": "1c1220af-e3cd-4a5e-8c20-ac6b52b75302",
   "metadata": {},
   "source": [
    "Whe've already seen that finding the right way to turn categories into numbers that our models can understand can be a challenge. Label encoding and one-hot encoding are common choices, but they're not perfect. They can struggle with a lot of different categories, either by needing a big table to keep track of them all (label encoding) or by making our dataset huge with too many columns (one-hot encoding). Plus, they don't handle new, unseen categories very well.\n",
    "\n",
    "But as the saying goes, there's no free lunch - this applies to hash encoding too. However, sometimes we really need the best of both worlds: a way to **encode features efficiently without mixing up the categories we already know**.\n",
    "\n",
    "We've mentioned a simple solution: use more buckets. But there's another clever technique - adding a \"salt\" to our categories. No, not the kind you cook with, but a special addition to our data that mixes things up. By attaching extra text to our category values, we create a kind of chaos that changes how they're sorted into buckets. Why does this help? Because with the right amount of shuffling, we can avoid mixing up our known categories in the same bucket.\n",
    "\n",
    "To get this right, we need to understand a bit of probability theory - don't worry, it's not as scary as it sounds. Think about the birthday paradox, which shows us how likely it is for people in a group to share a birthday. It's a bit like our categories and buckets: the chance of two categories ending up in the same bucket (a \"collision\") depends on how we shuffle them and how many buckets we have. With the right adjustments, we can keep our known categories from colliding, making our data easier to work with and our models more accurate. Let's explore how this technique can help us manage our categories more effectively, even when they're numerous or new ones show up.\n"
   ]
  },
  {
   "cell_type": "markdown",
   "id": "e0235c61-e336-4a30-bcfd-e9ae49deba13",
   "metadata": {},
   "source": [
    "First up, let's wrap our heads around how likely it is for categories to end up in the same bucket, a.k.a., a collision. Look at the Python function that can figure out this probability for us, and also at the graph that shows what happens with different numbers of categories and buckets."
   ]
  },
  {
   "cell_type": "code",
   "execution_count": 24,
   "id": "67c2da9a-39e4-4dbc-bf56-253a9dc91e46",
   "metadata": {},
   "outputs": [],
   "source": [
    "from math import factorial\n",
    "\n",
    "def category_collision(num_buckets, num_categories):\n",
    "    if num_buckets < num_categories:\n",
    "        return 1.0\n",
    "    else:\n",
    "        return 1.0 - (factorial(num_buckets) / (factorial(num_buckets - num_categories) * (num_buckets ** num_categories)))\n"
   ]
  },
  {
   "cell_type": "code",
   "execution_count": 25,
   "id": "6be45117-4196-4fd0-a16e-a1104c0fc7f1",
   "metadata": {},
   "outputs": [
    {
     "data": {
      "image/png": "[encoded data removed]",
      "text/plain": [
       "<Figure size 720x432 with 1 Axes>"
      ]
     },
     "metadata": {
      "needs_background": "light"
     },
     "output_type": "display_data"
    }
   ],
   "source": [
    "num_buckets_range = range(1, 2001)\n",
    "num_categories_list = [10, 20, 30, 40, 43, 50]\n",
    "\n",
    "# Create a plot\n",
    "plt.figure(figsize=(10, 6))\n",
    "\n",
    "# Plot each curve for the different number of categories\n",
    "for num_categories in num_categories_list:\n",
    "    probabilities = [category_collision(num_buckets, num_categories) for num_buckets in num_buckets_range]\n",
    "    plt.plot(num_buckets_range, probabilities, label=f'{num_categories} categories')\n",
    "\n",
    "# Add labels and title\n",
    "plt.xlabel('Number of Hash Buckets')\n",
    "plt.ylabel('Probability of Category Collision')\n",
    "plt.title('Birthday Paradox applied to Category Collision Probability')\n",
    "plt.legend()\n",
    "\n",
    "# Show the plot\n",
    "plt.grid(True)\n",
    "plt.show()"
   ]
  },
  {
   "cell_type": "markdown",
   "id": "a0753315-036c-428b-9e95-5d4ff2ddc6d4",
   "metadata": {},
   "source": [
    "In our case, we're zooming in on the scenario with 43 categories because that's how many different `native_countries` we have in our dataset. Suppose we decide on 250 as our magic number of buckets. According to the graph (and the math behind it), if we do a simple hash with these 250 buckets, there's a 97.84% chance we'll see at least one overlap.\n",
    "\n",
    "But what if we don't settle for just one try? What if we experiment with 100 different ways to assign these buckets by mixing in 100 unique \"salts\"? This strategy boosts our odds of hitting a combination without any collisions to 88.71%. Sounds like a plan, right? So, let's experiment with a whole hundred of different salts."
   ]
  },
  {
   "cell_type": "code",
   "execution_count": 26,
   "id": "1e9ee7af-6b92-40c5-b77e-487712af5596",
   "metadata": {},
   "outputs": [],
   "source": [
    "salts = ['TableSalt',  'SeaSalt',  'HimalayanPinkSalt',  'KosherSalt',  'CelticSeaSalt',  'FleurdeSel',  'BlackSaltKalaNamak',  'RedHawaiianSalt',  'BlackHawaiianSalt', \n",
    " 'SmokedSalt',  'FlakeSalt',  'SelGris',  'EpsomSalt',  'DeadSeaSalt',  'BolivianRoseSalt',  'PersianBlueSalt',  'AlaeaSalt',  'MaldonSalt',  'MurrayRiverSalt', \n",
    " 'CyprusBlackLavaSalt',  'DanishSmokedSalt',  'ChardonnayOakSmokedSalt',  'HawaiianBambooJadeSalt',  'SicilianSeaSalt',  'PeruvianPinkSalt',  'SelMelange', \n",
    " 'ApplewoodSmokedSalt',  'CherrywoodSmokedSalt',  'VanillaBeanSalt',  'SzechuanPepperSalt',  'LemonFlakeSalt',  'VintageMerlotSalt',  'GhostPepperSalt', \n",
    " 'LavenderRosemarySalt',  'MatchaGreenTeaSalt',  'TruffleSalt',  'PorciniMushroomSalt',  'GarlicSalt',  'OnionSalt',  'CelerySalt',  'HabaneroSalt', \n",
    " 'EspressoSalt',  'CinnamonSpiceSalt',  'IndianBlackSalt',  'BlueCheeseSalt',  'HickorySalt',  'AlderwoodSmokedSalt',  'AnchoChileSalt',  'BasilSalt',\n",
    " 'ChiliLimeSalt',  'ChocolateSalt',  'CoconutGulaJawaSalt',  'CuminSalt',  'CurrySalt',  'FennelSalt',  'GingerSalt',  'HerbesdeProvenceSalt',  'JalapenoSalt', \n",
    " 'LimeSalt',  'MapleSalt',  'OrangeSalt',  'RoseSalt',  'SaffronSalt',  'SageSalt',  'SrirachaSalt',  'SumacSalt',  'TurmericSalt',  'WasabiSalt',\n",
    " 'WhiskeySmokedSalt',  'WineSalt',  'YuzuSalt',  \"ZaatarSalt\",  'SmokedApplewoodSalt',  'BeechwoodSmokedSalt',  'NorwegianSeaSalt',  'BrittanySeaSalt', \n",
    " 'CornishSeaSalt',  'IcelandicSeaSalt',  'KoreanBambooSalt',  'MalaysianPyramidSalt',  'MexicanSeaSalt',  'NewZealandSeaSalt',  'PortugueseSeaSalt',\n",
    " 'SouthAfricanSeaSalt',  'SpanishSeaSalt',  'ThaiFleurdeSel',  'VikingSmokedSalt',  'WelshSeaSalt',  'YakimaApplewoodSmokedSalt',  'OakSmokedSalt',  \n",
    " 'PinkPeppercornSalt',  'LemonHerbSalt',  'ChipotleSalt',  'BourbonBarrelSmokedSalt',  'AguniSeaSalt',  'AmabitoNoMoshioSeaweedSalt', \n",
    " 'BlackTruffleSeaSalt',  'CaviarSalt',  'HarvestSalt',  'HawaiianRedAlaeaSalt',  'ItalianBlackTruffleSalt',  'JapaneseMatchaSalt', \n",
    " 'OliveSalt',  'PumpkinSpiceSalt',  'RosemarySalt',  'ShiitakeMushroomSalt',  'SicilianWhiteSalt',  'TibetanRoseSalt']"
   ]
  },
  {
   "cell_type": "markdown",
   "id": "442de13b-87e1-483a-8545-862c719de154",
   "metadata": {},
   "source": [
    "Next, we'll set up a temporary table listing all the distinct countries. We'll tweak our earlier function to consider our chosen \"salt\" by tacking it onto the end of each country name. Then, we'll run a check to see if we've managed to dodge any collisions with our new, salt-enhanced hashing method."
   ]
  },
  {
   "cell_type": "code",
   "execution_count": 27,
   "id": "a69b80f9-fc23-4be2-b36a-b8ae0f4b675a",
   "metadata": {},
   "outputs": [],
   "source": [
    "tdml.execute_sql(\"\"\"\n",
    "CREATE MULTISET VOLATILE TABLE countries_t AS \n",
    "(SELECT native_country FROM census_income GROUP BY native_country )\n",
    "WITH DATA NO PRIMARY INDEX\n",
    "ON COMMIT PRESERVE ROWS\n",
    "\"\"\")\n",
    "\n",
    "DF_countries = tdml.DataFrame(\"countries_t\")"
   ]
  },
  {
   "cell_type": "code",
   "execution_count": 28,
   "id": "c6f81f98-6424-4eb0-8ae0-0d4202711168",
   "metadata": {},
   "outputs": [
    {
     "data": {
      "text/html": [
       "<style type=\"text/css\">\n",
       "\ttable {border:ridge 5px;}\n",
       "\ttable td {border:inset 1px;}\n",
       "\ttable tr#HeaderRow {background-color:grey; color:white;}</style>\n",
       "<html><table>\n",
       "\t<tr id=\"HeaderRow\">\n",
       "\t\t<th>native_country</th>\n",
       "\t</tr>\n",
       "\t<tr>\n",
       "\t\t<td>Scotland</td>\n",
       "\t</tr>\n",
       "\t<tr>\n",
       "\t\t<td>Ecuador</td>\n",
       "\t</tr>\n",
       "\t<tr>\n",
       "\t\t<td>Peru</td>\n",
       "\t</tr>\n",
       "\t<tr>\n",
       "\t\t<td>El-Salvador</td>\n",
       "\t</tr>\n",
       "\t<tr>\n",
       "\t\t<td>France</td>\n",
       "\t</tr>\n",
       "\t<tr>\n",
       "\t\t<td>None</td>\n",
       "\t</tr>\n",
       "\t<tr>\n",
       "\t\t<td>Ireland</td>\n",
       "\t</tr>\n",
       "\t<tr>\n",
       "\t\t<td>Iran</td>\n",
       "\t</tr>\n",
       "\t<tr>\n",
       "\t\t<td>Outlying-US(Guam-USVI-etc)</td>\n",
       "\t</tr>\n",
       "\t<tr>\n",
       "\t\t<td>United-States</td>\n",
       "\t</tr>\n",
       "</table></html>"
      ],
      "text/plain": [
       "               native_country\n",
       "0                    Scotland\n",
       "1                     Ecuador\n",
       "2                        Peru\n",
       "3                 El-Salvador\n",
       "4                      France\n",
       "5                        None\n",
       "6                     Ireland\n",
       "7                        Iran\n",
       "8  Outlying-US(Guam-USVI-etc)\n",
       "9               United-States"
      ]
     },
     "execution_count": 28,
     "metadata": {},
     "output_type": "execute_result"
    }
   ],
   "source": [
    "DF_countries"
   ]
  },
  {
   "cell_type": "code",
   "execution_count": 29,
   "id": "68c3c27e-f277-452f-9665-2037962aa85c",
   "metadata": {},
   "outputs": [],
   "source": [
    "def get_feature_hashbucket_salted(thisDF, column_name, num_buckets=10, salt = \"\"):\n",
    "    return f.abs(f.from_bytes(f.hashrow(f.concat(thisDF[column_name].expression, salt)), \"base10\" \n",
    "                             ).cast(type_=tdml.INTEGER)) % num_buckets"
   ]
  },
  {
   "cell_type": "code",
   "execution_count": 30,
   "id": "7455a715-03c4-4f3f-94fe-6ec1781fd7c5",
   "metadata": {},
   "outputs": [],
   "source": [
    "my_kwargs = {(f\"native_country_{salt}\") : get_feature_hashbucket_salted(DF_countries, \"native_country\",250, salt) \n",
    "                     for salt in salts}\n",
    "\n",
    "DF_countries_hashbucket = (DF_countries\n",
    "    .assign(**my_kwargs))"
   ]
  },
  {
   "cell_type": "code",
   "execution_count": 31,
   "id": "ba2d79a2-6e33-4cbe-9d64-81aa64cf574d",
   "metadata": {},
   "outputs": [
    {
     "data": {
      "text/plain": [
       "native_country_CaviarSalt                42\n",
       "native_country_HawaiianBambooJadeSalt    42\n",
       "native_country_SelMelange                42\n",
       "native_country_NewZealandSeaSalt         42\n",
       "native_country                           42\n",
       "native_country_TableSalt                 43\n",
       "native_country_KosherSalt                43\n",
       "native_country_MatchaGreenTeaSalt        43\n",
       "native_country_OliveSalt                 43\n",
       "native_country_FennelSalt                43\n",
       "dtype: int64"
      ]
     },
     "execution_count": 31,
     "metadata": {},
     "output_type": "execute_result"
    }
   ],
   "source": [
    "DF_countries_hashbucket.to_pandas().nunique().sort_values().tail(10)"
   ]
  },
  {
   "cell_type": "markdown",
   "id": "2db0f119-3dc4-439b-ac40-7f03bdf1156b",
   "metadata": {},
   "source": [
    "Great news: we've got options on the table! Just like picking between table salt, kosher salt, matcha green tea salt, olive salt, or fennel salt to flavor our dishes, we can choose our \"salt\" for hashing to get that perfect, collision-free categorical encoding. And the best part? We don't need a massive number of buckets to make it happen. It's all about your preference now, like choosing the right seasoning for your meal.\n",
    "\n",
    "Sure, it might sound like extra steps to take, but it's absolutely worth it when you're aiming to fine-tune your model or speed things up in production, especially when there are strict performance requirements to meet. Think of it as the secret ingredient that could give your model the edge it needs, ensuring it runs smoothly and quickly, just when you need it to."
   ]
  },
  {
   "cell_type": "markdown",
   "id": "2f2b582b-583d-43bc-84f2-70c96bb8058c",
   "metadata": {},
   "source": [
    "# Summary"
   ]
  },
  {
   "cell_type": "markdown",
   "id": "16660050-dd10-4865-994b-f25b150f471c",
   "metadata": {},
   "source": [
    "Hashing might not be a familiar concept to everyone, but understanding and leveraging it can be a real game-changer—if you know how to use it and when. In this blog post, we've taken a deep dive into how hashing works and why it's so important, especially when dealing with huge amounts of data in Teradata Vantage. We explored four key use cases: anonymizing data to protect privacy, splitting data sets for model training, and two ways of encoding categorical data to make it easier for machines to understand.\n",
    "\n",
    "We started with the basics, showing how hashing turns any input into a fixed-size string, a bit like giving every piece of data its own unique fingerprint. This process is crucial for handling data quickly and safely. From there, we saw how hashing helps keep personal information private, ensures data is divided fairly for machine learning, and simplifies complex data into a format that's easy to work with, even introducing a clever \"salt\" trick to avoid mixing up different pieces of data.\n",
    "\n",
    "Overall, we have shown that while hashing might seem a bit technical or obscure, it's actually a powerful tool in data science. It can make big data tasks more manageable, secure, and efficient, proving its value across a range of scenarios. So, the next time you're working with data, consider how hashing might help you achieve your goals more effectively."
   ]
  },
  {
   "cell_type": "markdown",
   "id": "2e506cab-6c0f-4592-bc6d-835153d4aa2b",
   "metadata": {},
   "source": [
    "Do not hesitate and try it out yourself by signing up for ClearScape Analytics Experience for free: https://clearscape.teradata.com/"
   ]
  }
 ],
 "metadata": {
  "kernelspec": {
   "display_name": "Python 3 (ipykernel)",
   "language": "python",
   "name": "python3"
  },
  "language_info": {
   "codemirror_mode": {
    "name": "ipython",
    "version": 3
   },
   "file_extension": ".py",
   "mimetype": "text/x-python",
   "name": "python",
   "nbconvert_exporter": "python",
   "pygments_lexer": "ipython3",
   "version": "3.12.0"
  }
 },
 "nbformat": 4,
 "nbformat_minor": 5
}
